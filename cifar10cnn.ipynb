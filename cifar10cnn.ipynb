{
  "nbformat": 4,
  "nbformat_minor": 0,
  "metadata": {
    "colab": {
      "name": "NNDL Mini Project Q2",
      "provenance": [],
      "collapsed_sections": [],
      "toc_visible": true
    },
    "kernelspec": {
      "name": "python3",
      "display_name": "Python 3"
    },
    "language_info": {
      "name": "python"
    },
    "accelerator": "GPU",
    "widgets": {
      "application/vnd.jupyter.widget-state+json": {
        "af196013076f4bf281e202686e70141e": {
          "model_module": "@jupyter-widgets/controls",
          "model_name": "HBoxModel",
          "state": {
            "_view_name": "HBoxView",
            "_dom_classes": [],
            "_model_name": "HBoxModel",
            "_view_module": "@jupyter-widgets/controls",
            "_model_module_version": "1.5.0",
            "_view_count": null,
            "_view_module_version": "1.5.0",
            "box_style": "",
            "layout": "IPY_MODEL_b14ef3fbf77b4303a1a39eedd235a6e8",
            "_model_module": "@jupyter-widgets/controls",
            "children": [
              "IPY_MODEL_067101abcf3941738c9aa370d12b28a2",
              "IPY_MODEL_6008184bf20d4b35b57db18a8f659fb8"
            ]
          }
        },
        "b14ef3fbf77b4303a1a39eedd235a6e8": {
          "model_module": "@jupyter-widgets/base",
          "model_name": "LayoutModel",
          "state": {
            "_view_name": "LayoutView",
            "grid_template_rows": null,
            "right": null,
            "justify_content": null,
            "_view_module": "@jupyter-widgets/base",
            "overflow": null,
            "_model_module_version": "1.2.0",
            "_view_count": null,
            "flex_flow": null,
            "width": null,
            "min_width": null,
            "border": null,
            "align_items": null,
            "bottom": null,
            "_model_module": "@jupyter-widgets/base",
            "top": null,
            "grid_column": null,
            "overflow_y": null,
            "overflow_x": null,
            "grid_auto_flow": null,
            "grid_area": null,
            "grid_template_columns": null,
            "flex": null,
            "_model_name": "LayoutModel",
            "justify_items": null,
            "grid_row": null,
            "max_height": null,
            "align_content": null,
            "visibility": null,
            "align_self": null,
            "height": null,
            "min_height": null,
            "padding": null,
            "grid_auto_rows": null,
            "grid_gap": null,
            "max_width": null,
            "order": null,
            "_view_module_version": "1.2.0",
            "grid_template_areas": null,
            "object_position": null,
            "object_fit": null,
            "grid_auto_columns": null,
            "margin": null,
            "display": null,
            "left": null
          }
        },
        "067101abcf3941738c9aa370d12b28a2": {
          "model_module": "@jupyter-widgets/controls",
          "model_name": "FloatProgressModel",
          "state": {
            "_view_name": "ProgressView",
            "style": "IPY_MODEL_07a4d856e2ef409c92a5b5b5efd86b65",
            "_dom_classes": [],
            "description": "",
            "_model_name": "FloatProgressModel",
            "bar_style": "success",
            "max": 170498071,
            "_view_module": "@jupyter-widgets/controls",
            "_model_module_version": "1.5.0",
            "value": 170498071,
            "_view_count": null,
            "_view_module_version": "1.5.0",
            "orientation": "horizontal",
            "min": 0,
            "description_tooltip": null,
            "_model_module": "@jupyter-widgets/controls",
            "layout": "IPY_MODEL_d187cbf737ff448883fbcecfcda3d19b"
          }
        },
        "6008184bf20d4b35b57db18a8f659fb8": {
          "model_module": "@jupyter-widgets/controls",
          "model_name": "HTMLModel",
          "state": {
            "_view_name": "HTMLView",
            "style": "IPY_MODEL_bed5447e343d497cb7423824897f1be6",
            "_dom_classes": [],
            "description": "",
            "_model_name": "HTMLModel",
            "placeholder": "​",
            "_view_module": "@jupyter-widgets/controls",
            "_model_module_version": "1.5.0",
            "value": " 170499072/? [12:22&lt;00:00, 229606.34it/s]",
            "_view_count": null,
            "_view_module_version": "1.5.0",
            "description_tooltip": null,
            "_model_module": "@jupyter-widgets/controls",
            "layout": "IPY_MODEL_4c2de78e99a540dda95ab41c6c00757d"
          }
        },
        "07a4d856e2ef409c92a5b5b5efd86b65": {
          "model_module": "@jupyter-widgets/controls",
          "model_name": "ProgressStyleModel",
          "state": {
            "_view_name": "StyleView",
            "_model_name": "ProgressStyleModel",
            "description_width": "initial",
            "_view_module": "@jupyter-widgets/base",
            "_model_module_version": "1.5.0",
            "_view_count": null,
            "_view_module_version": "1.2.0",
            "bar_color": null,
            "_model_module": "@jupyter-widgets/controls"
          }
        },
        "d187cbf737ff448883fbcecfcda3d19b": {
          "model_module": "@jupyter-widgets/base",
          "model_name": "LayoutModel",
          "state": {
            "_view_name": "LayoutView",
            "grid_template_rows": null,
            "right": null,
            "justify_content": null,
            "_view_module": "@jupyter-widgets/base",
            "overflow": null,
            "_model_module_version": "1.2.0",
            "_view_count": null,
            "flex_flow": null,
            "width": null,
            "min_width": null,
            "border": null,
            "align_items": null,
            "bottom": null,
            "_model_module": "@jupyter-widgets/base",
            "top": null,
            "grid_column": null,
            "overflow_y": null,
            "overflow_x": null,
            "grid_auto_flow": null,
            "grid_area": null,
            "grid_template_columns": null,
            "flex": null,
            "_model_name": "LayoutModel",
            "justify_items": null,
            "grid_row": null,
            "max_height": null,
            "align_content": null,
            "visibility": null,
            "align_self": null,
            "height": null,
            "min_height": null,
            "padding": null,
            "grid_auto_rows": null,
            "grid_gap": null,
            "max_width": null,
            "order": null,
            "_view_module_version": "1.2.0",
            "grid_template_areas": null,
            "object_position": null,
            "object_fit": null,
            "grid_auto_columns": null,
            "margin": null,
            "display": null,
            "left": null
          }
        },
        "bed5447e343d497cb7423824897f1be6": {
          "model_module": "@jupyter-widgets/controls",
          "model_name": "DescriptionStyleModel",
          "state": {
            "_view_name": "StyleView",
            "_model_name": "DescriptionStyleModel",
            "description_width": "",
            "_view_module": "@jupyter-widgets/base",
            "_model_module_version": "1.5.0",
            "_view_count": null,
            "_view_module_version": "1.2.0",
            "_model_module": "@jupyter-widgets/controls"
          }
        },
        "4c2de78e99a540dda95ab41c6c00757d": {
          "model_module": "@jupyter-widgets/base",
          "model_name": "LayoutModel",
          "state": {
            "_view_name": "LayoutView",
            "grid_template_rows": null,
            "right": null,
            "justify_content": null,
            "_view_module": "@jupyter-widgets/base",
            "overflow": null,
            "_model_module_version": "1.2.0",
            "_view_count": null,
            "flex_flow": null,
            "width": null,
            "min_width": null,
            "border": null,
            "align_items": null,
            "bottom": null,
            "_model_module": "@jupyter-widgets/base",
            "top": null,
            "grid_column": null,
            "overflow_y": null,
            "overflow_x": null,
            "grid_auto_flow": null,
            "grid_area": null,
            "grid_template_columns": null,
            "flex": null,
            "_model_name": "LayoutModel",
            "justify_items": null,
            "grid_row": null,
            "max_height": null,
            "align_content": null,
            "visibility": null,
            "align_self": null,
            "height": null,
            "min_height": null,
            "padding": null,
            "grid_auto_rows": null,
            "grid_gap": null,
            "max_width": null,
            "order": null,
            "_view_module_version": "1.2.0",
            "grid_template_areas": null,
            "object_position": null,
            "object_fit": null,
            "grid_auto_columns": null,
            "margin": null,
            "display": null,
            "left": null
          }
        }
      }
    }
  },
  "cells": [
    {
      "cell_type": "markdown",
      "metadata": {
        "id": "pf2BC5MhYmTH"
      },
      "source": [
        "# CNN"
      ]
    },
    {
      "cell_type": "markdown",
      "metadata": {
        "id": "UKVAv_0hU8qd"
      },
      "source": [
        "### Import libraries"
      ]
    },
    {
      "cell_type": "code",
      "metadata": {
        "id": "4dK4tEP9SGS8"
      },
      "source": [
        "import torch\n",
        "import torchvision\n",
        "import torch.nn as nn\n",
        "import torch.optim as optim\n",
        "import torchvision.transforms as transforms\n",
        "import numpy as np\n",
        "import matplotlib.pyplot as plt\n",
        "from sklearn.metrics import accuracy_score, classification_report, confusion_matrix\n",
        "from random import sample"
      ],
      "execution_count": null,
      "outputs": []
    },
    {
      "cell_type": "markdown",
      "metadata": {
        "id": "E73me4q8Zin_"
      },
      "source": [
        "## Load train & test data"
      ]
    },
    {
      "cell_type": "code",
      "metadata": {
        "id": "s2jEJuJGZdOy",
        "colab": {
          "base_uri": "https://localhost:8080/",
          "height": 117,
          "referenced_widgets": [
            "af196013076f4bf281e202686e70141e",
            "b14ef3fbf77b4303a1a39eedd235a6e8",
            "067101abcf3941738c9aa370d12b28a2",
            "6008184bf20d4b35b57db18a8f659fb8",
            "07a4d856e2ef409c92a5b5b5efd86b65",
            "d187cbf737ff448883fbcecfcda3d19b",
            "bed5447e343d497cb7423824897f1be6",
            "4c2de78e99a540dda95ab41c6c00757d"
          ]
        },
        "outputId": "934de18b-042e-4e73-a93b-11f5c1d94622"
      },
      "source": [
        "transformer = transforms.Compose([transforms.ToTensor(), \n",
        "                                  transforms.Normalize((0.5, 0.5, 0.5), (0.5, 0.5, 0.5))\n",
        "                                 ])\n",
        "\n",
        "batch_size = 4\n",
        "train_data = torchvision.datasets.CIFAR10(root='./cifar10', train=True,\n",
        "                                          download=True, transform=transformer)\n",
        "train_loader = torch.utils.data.DataLoader(train_data, batch_size=batch_size, \n",
        "                                           shuffle=True)\n",
        "\n",
        "test_data = torchvision.datasets.CIFAR10(root='./cifar10', train=False,\n",
        "                                         download=True, transform=transformer)\n",
        "test_loader = torch.utils.data.DataLoader(test_data, batch_size=batch_size,\n",
        "                                         shuffle=False)"
      ],
      "execution_count": null,
      "outputs": [
        {
          "output_type": "stream",
          "text": [
            "Downloading https://www.cs.toronto.edu/~kriz/cifar-10-python.tar.gz to ./cifar10/cifar-10-python.tar.gz\n"
          ],
          "name": "stdout"
        },
        {
          "output_type": "display_data",
          "data": {
            "application/vnd.jupyter.widget-view+json": {
              "model_id": "af196013076f4bf281e202686e70141e",
              "version_minor": 0,
              "version_major": 2
            },
            "text/plain": [
              "HBox(children=(FloatProgress(value=0.0, max=170498071.0), HTML(value='')))"
            ]
          },
          "metadata": {
            "tags": []
          }
        },
        {
          "output_type": "stream",
          "text": [
            "\n",
            "Extracting ./cifar10/cifar-10-python.tar.gz to ./cifar10\n",
            "Files already downloaded and verified\n"
          ],
          "name": "stdout"
        }
      ]
    },
    {
      "cell_type": "markdown",
      "metadata": {
        "id": "aDmf-5iQJIaO"
      },
      "source": [
        "## Define CNN network"
      ]
    },
    {
      "cell_type": "code",
      "metadata": {
        "id": "Hct5qG2MJHr2"
      },
      "source": [
        "class BaseCNN(nn.Module):\n",
        "    def __init__(self):\n",
        "        super().__init__()\n",
        "        # Filter Layer 1\n",
        "        self.conv11 = nn.Conv2d(in_channels=3, out_channels=32, kernel_size=3, padding=1, stride=1)\n",
        "        self.conv12 = nn.Conv2d(in_channels=32, out_channels=72, kernel_size=4, padding=1, stride=1)\n",
        "        self.pool1 = nn.MaxPool2d(kernel_size=2, stride=1)\n",
        "\n",
        "        # Filter Layer 2\n",
        "        self.conv21 = nn.Conv2d(in_channels=72, out_channels=120, kernel_size=3, padding=1, stride=1)\n",
        "        self.conv22 = nn.Conv2d(in_channels=120, out_channels=64, kernel_size=3, padding=1, stride=1)\n",
        "        self.pool2 = nn.MaxPool2d(kernel_size=2, stride=2)\n",
        "\n",
        "        # Filter Layer 3\n",
        "        self.conv31 = nn.Conv2d(in_channels=64, out_channels=45, kernel_size=2, padding=1, stride=1)\n",
        "        self.conv32 = nn.Conv2d(in_channels=45, out_channels=16, kernel_size=3, padding=1, stride=1)\n",
        "        self.pool3 = nn.MaxPool2d(kernel_size=2, stride=2)\n",
        "        \n",
        "        # Fully connected layers\n",
        "        self.fc1 = nn.Linear(16 * 8 * 8, 256)\n",
        "        self.fc2 = nn.Linear(256, 64)\n",
        "        self.fc3 = nn.Linear(64, 10)\n",
        "\n",
        "        self.ReLU = nn.ReLU()\n",
        "\n",
        "    def forward(self, input):\n",
        "        # Filter Layer 1\n",
        "        input = self.conv11(input)\n",
        "        input = self.ReLU(input)\n",
        "        input = self.conv12(input)\n",
        "        input = self.ReLU(input)\n",
        "        input = self.pool1(input)\n",
        "\n",
        "        # Filter Layer 2\n",
        "        input = self.conv21(input)\n",
        "        input = self.ReLU(input)\n",
        "        input = self.conv22(input)\n",
        "        input = self.ReLU(input)\n",
        "        input = self.pool2(input)\n",
        "\n",
        "        # Filter Layer 3\n",
        "        input = self.conv31(input)\n",
        "        input = self.ReLU(input)\n",
        "        input = self.conv32(input)\n",
        "        input = self.ReLU(input)\n",
        "        input = self.pool3(input)\n",
        "\n",
        "        input = torch.flatten(input, 1)\n",
        "        # Fully connected layers\n",
        "        input = self.fc1(input)\n",
        "        input = self.ReLU(input)\n",
        "        input = self.fc2(input)\n",
        "        input = self.ReLU(input)\n",
        "        input = self.fc3(input)\n",
        "\n",
        "        return input"
      ],
      "execution_count": null,
      "outputs": []
    },
    {
      "cell_type": "markdown",
      "metadata": {
        "id": "qH-A9w8zcRQx"
      },
      "source": [
        "## Train and Test Model"
      ]
    },
    {
      "cell_type": "code",
      "metadata": {
        "id": "44cwGOpWcT5_"
      },
      "source": [
        "def train(model, train_loader, test_loader, epochs_num, optimizer, loss_function, train_size, test_size):\n",
        "  epochs_train_loss = []\n",
        "  epochs_test_loss = []\n",
        "  epochs_train_acc = []\n",
        "  epochs_test_acc = []\n",
        "  for epoch in range(1, epochs_num+1):\n",
        "    batches_train_loss = []\n",
        "    batches_train_predictions = []\n",
        "    batches_train_targets = []\n",
        "\n",
        "    for index, data in enumerate(train_loader):\n",
        "      features, targets = data\n",
        "      features, targets = features.cuda(), targets.cuda()\n",
        "      optimizer.zero_grad()\n",
        "      output = model(features)\n",
        "      _, prediction = torch.max(output.data, 1)\n",
        "\n",
        "      loss = loss_function(output, targets)\n",
        "\n",
        "      loss.backward()\n",
        "      optimizer.step()\n",
        "\n",
        "      batches_train_loss.append(loss.item())\n",
        "\n",
        "      batches_train_predictions.extend(prediction.cpu())\n",
        "      batches_train_targets.extend(targets.cpu())\n",
        "\n",
        "      if (index+1) % 2000==0:\n",
        "          print(\"Batch number {} is finished!\".format(index+1))\n",
        "    \n",
        "    batches_test_predictions, batches_test_targets, batches_test_loss = test(model, test_loader, optimizer, loss_function)\n",
        "    epochs_train_acc.append(accuracy_score(batches_train_targets, batches_train_predictions))\n",
        "    epochs_train_loss.append(np.sum(batches_train_loss)/train_size)\n",
        "\n",
        "    epochs_test_acc.append(accuracy_score(batches_test_targets, batches_test_predictions))\n",
        "    epochs_test_loss.append(np.sum(batches_test_loss)/test_size)\n",
        "\n",
        "    print('Epoch {} is finished!'.format(epoch))\n",
        "  return epochs_train_loss, epochs_test_loss, epochs_train_acc, epochs_test_acc"
      ],
      "execution_count": null,
      "outputs": []
    },
    {
      "cell_type": "code",
      "metadata": {
        "id": "OP5r6OIFiy_c"
      },
      "source": [
        "def test(model, test_loader, optimizer, loss_function):\n",
        "  batches_test_loss = []\n",
        "  batches_test_predictions = []\n",
        "  batches_test_targets = []\n",
        "  with torch.no_grad():\n",
        "    for features, target in test_loader:\n",
        "      features, target = features.cuda(), target.cuda()\n",
        "      output = model(features)\n",
        "      _, prediction = torch.max(output.data, 1)\n",
        "      loss = loss_function(output, target).item()\n",
        "      batches_test_loss.append(loss)\n",
        "      batches_test_predictions.extend(prediction.cpu())\n",
        "      batches_test_targets.extend(target.cpu())\n",
        "    \n",
        "  return batches_test_predictions, batches_test_targets, batches_test_loss\n",
        "\n"
      ],
      "execution_count": null,
      "outputs": []
    },
    {
      "cell_type": "markdown",
      "metadata": {
        "id": "GqzYDCMal1TA"
      },
      "source": [
        "## Plot Accuracy and Loss"
      ]
    },
    {
      "cell_type": "code",
      "metadata": {
        "id": "WtVem2n1lcab"
      },
      "source": [
        "def plot_result(epochs_train, epochs_test, epochs_num, title):\n",
        "  x_axis = range(1, epochs_num+1)\n",
        "  legends = ['train', 'test']\n",
        "  x_label = 'Epoch'\n",
        "  plt.plot(x_axis, epochs_train)\n",
        "  plt.plot(x_axis, epochs_test)\n",
        "  plt.title(title)\n",
        "  plt.xlabel(x_label)\n",
        "  plt.legend(legends)\n",
        "  plt.show()"
      ],
      "execution_count": null,
      "outputs": []
    },
    {
      "cell_type": "markdown",
      "metadata": {
        "id": "jwYTemp-mSId"
      },
      "source": [
        "## Run Base Network"
      ]
    },
    {
      "cell_type": "code",
      "metadata": {
        "id": "1x3EWx2QmIk8",
        "colab": {
          "base_uri": "https://localhost:8080/"
        },
        "outputId": "cecc1eed-1772-41aa-ab66-de9b91d2781b"
      },
      "source": [
        "base_net = BaseCNN()\n",
        "base_net.cuda()"
      ],
      "execution_count": null,
      "outputs": [
        {
          "output_type": "execute_result",
          "data": {
            "text/plain": [
              "BaseCNN(\n",
              "  (conv11): Conv2d(3, 32, kernel_size=(3, 3), stride=(1, 1), padding=(1, 1))\n",
              "  (conv12): Conv2d(32, 72, kernel_size=(4, 4), stride=(1, 1), padding=(1, 1))\n",
              "  (pool1): MaxPool2d(kernel_size=2, stride=1, padding=0, dilation=1, ceil_mode=False)\n",
              "  (conv21): Conv2d(72, 120, kernel_size=(3, 3), stride=(1, 1), padding=(1, 1))\n",
              "  (conv22): Conv2d(120, 64, kernel_size=(3, 3), stride=(1, 1), padding=(1, 1))\n",
              "  (pool2): MaxPool2d(kernel_size=2, stride=2, padding=0, dilation=1, ceil_mode=False)\n",
              "  (conv31): Conv2d(64, 45, kernel_size=(2, 2), stride=(1, 1), padding=(1, 1))\n",
              "  (conv32): Conv2d(45, 16, kernel_size=(3, 3), stride=(1, 1), padding=(1, 1))\n",
              "  (pool3): MaxPool2d(kernel_size=2, stride=2, padding=0, dilation=1, ceil_mode=False)\n",
              "  (fc1): Linear(in_features=1024, out_features=256, bias=True)\n",
              "  (fc2): Linear(in_features=256, out_features=64, bias=True)\n",
              "  (fc3): Linear(in_features=64, out_features=10, bias=True)\n",
              "  (ReLU): ReLU()\n",
              ")"
            ]
          },
          "metadata": {
            "tags": []
          },
          "execution_count": 7
        }
      ]
    },
    {
      "cell_type": "markdown",
      "metadata": {
        "id": "RTKVuE7lbHgg"
      },
      "source": [
        "## Define Loss Func"
      ]
    },
    {
      "cell_type": "code",
      "metadata": {
        "id": "ZDEkLorQI5Pe"
      },
      "source": [
        "criterion = nn.CrossEntropyLoss()"
      ],
      "execution_count": null,
      "outputs": []
    },
    {
      "cell_type": "markdown",
      "metadata": {
        "id": "egoarrNRbu1w"
      },
      "source": [
        "## Define Optimizer & Run model"
      ]
    },
    {
      "cell_type": "code",
      "metadata": {
        "id": "YEOt5xNjn8qb",
        "colab": {
          "base_uri": "https://localhost:8080/"
        },
        "outputId": "33a22322-2693-4e63-c4eb-86c01ded6e26"
      },
      "source": [
        "base_optimizer = optim.SGD(base_net.parameters(), lr=0.001, momentum=0.9)\n",
        "epochs_train_loss, epochs_test_loss, epochs_train_acc, epochs_test_acc = train(base_net, train_loader, test_loader, 20, base_optimizer, criterion, len(train_data), len(test_data))"
      ],
      "execution_count": null,
      "outputs": [
        {
          "output_type": "stream",
          "text": [
            "Batch number 2000 is finished!\n",
            "Batch number 4000 is finished!\n",
            "Batch number 6000 is finished!\n",
            "Batch number 8000 is finished!\n",
            "Batch number 10000 is finished!\n",
            "Batch number 12000 is finished!\n",
            "Epoch 1 is finished!\n",
            "Batch number 2000 is finished!\n",
            "Batch number 4000 is finished!\n",
            "Batch number 6000 is finished!\n",
            "Batch number 8000 is finished!\n",
            "Batch number 10000 is finished!\n",
            "Batch number 12000 is finished!\n",
            "Epoch 2 is finished!\n",
            "Batch number 2000 is finished!\n",
            "Batch number 4000 is finished!\n",
            "Batch number 6000 is finished!\n",
            "Batch number 8000 is finished!\n",
            "Batch number 10000 is finished!\n",
            "Batch number 12000 is finished!\n",
            "Epoch 3 is finished!\n",
            "Batch number 2000 is finished!\n",
            "Batch number 4000 is finished!\n",
            "Batch number 6000 is finished!\n",
            "Batch number 8000 is finished!\n",
            "Batch number 10000 is finished!\n",
            "Batch number 12000 is finished!\n",
            "Epoch 4 is finished!\n",
            "Batch number 2000 is finished!\n",
            "Batch number 4000 is finished!\n",
            "Batch number 6000 is finished!\n",
            "Batch number 8000 is finished!\n",
            "Batch number 10000 is finished!\n",
            "Batch number 12000 is finished!\n",
            "Epoch 5 is finished!\n",
            "Batch number 2000 is finished!\n",
            "Batch number 4000 is finished!\n",
            "Batch number 6000 is finished!\n",
            "Batch number 8000 is finished!\n",
            "Batch number 10000 is finished!\n",
            "Batch number 12000 is finished!\n",
            "Epoch 6 is finished!\n",
            "Batch number 2000 is finished!\n",
            "Batch number 4000 is finished!\n",
            "Batch number 6000 is finished!\n",
            "Batch number 8000 is finished!\n",
            "Batch number 10000 is finished!\n",
            "Batch number 12000 is finished!\n",
            "Epoch 7 is finished!\n",
            "Batch number 2000 is finished!\n",
            "Batch number 4000 is finished!\n",
            "Batch number 6000 is finished!\n",
            "Batch number 8000 is finished!\n",
            "Batch number 10000 is finished!\n",
            "Batch number 12000 is finished!\n",
            "Epoch 8 is finished!\n",
            "Batch number 2000 is finished!\n",
            "Batch number 4000 is finished!\n",
            "Batch number 6000 is finished!\n",
            "Batch number 8000 is finished!\n",
            "Batch number 10000 is finished!\n",
            "Batch number 12000 is finished!\n",
            "Epoch 9 is finished!\n",
            "Batch number 2000 is finished!\n",
            "Batch number 4000 is finished!\n",
            "Batch number 6000 is finished!\n",
            "Batch number 8000 is finished!\n",
            "Batch number 10000 is finished!\n",
            "Batch number 12000 is finished!\n",
            "Epoch 10 is finished!\n",
            "Batch number 2000 is finished!\n",
            "Batch number 4000 is finished!\n",
            "Batch number 6000 is finished!\n",
            "Batch number 8000 is finished!\n",
            "Batch number 10000 is finished!\n",
            "Batch number 12000 is finished!\n",
            "Epoch 11 is finished!\n",
            "Batch number 2000 is finished!\n",
            "Batch number 4000 is finished!\n",
            "Batch number 6000 is finished!\n",
            "Batch number 8000 is finished!\n",
            "Batch number 10000 is finished!\n",
            "Batch number 12000 is finished!\n",
            "Epoch 12 is finished!\n",
            "Batch number 2000 is finished!\n",
            "Batch number 4000 is finished!\n",
            "Batch number 6000 is finished!\n",
            "Batch number 8000 is finished!\n",
            "Batch number 10000 is finished!\n",
            "Batch number 12000 is finished!\n",
            "Epoch 13 is finished!\n",
            "Batch number 2000 is finished!\n",
            "Batch number 4000 is finished!\n",
            "Batch number 6000 is finished!\n",
            "Batch number 8000 is finished!\n",
            "Batch number 10000 is finished!\n",
            "Batch number 12000 is finished!\n",
            "Epoch 14 is finished!\n",
            "Batch number 2000 is finished!\n",
            "Batch number 4000 is finished!\n",
            "Batch number 6000 is finished!\n",
            "Batch number 8000 is finished!\n",
            "Batch number 10000 is finished!\n",
            "Batch number 12000 is finished!\n",
            "Epoch 15 is finished!\n",
            "Batch number 2000 is finished!\n",
            "Batch number 4000 is finished!\n",
            "Batch number 6000 is finished!\n",
            "Batch number 8000 is finished!\n",
            "Batch number 10000 is finished!\n",
            "Batch number 12000 is finished!\n",
            "Epoch 16 is finished!\n",
            "Batch number 2000 is finished!\n",
            "Batch number 4000 is finished!\n",
            "Batch number 6000 is finished!\n",
            "Batch number 8000 is finished!\n",
            "Batch number 10000 is finished!\n",
            "Batch number 12000 is finished!\n",
            "Epoch 17 is finished!\n",
            "Batch number 2000 is finished!\n",
            "Batch number 4000 is finished!\n",
            "Batch number 6000 is finished!\n",
            "Batch number 8000 is finished!\n",
            "Batch number 10000 is finished!\n",
            "Batch number 12000 is finished!\n",
            "Epoch 18 is finished!\n",
            "Batch number 2000 is finished!\n",
            "Batch number 4000 is finished!\n",
            "Batch number 6000 is finished!\n",
            "Batch number 8000 is finished!\n",
            "Batch number 10000 is finished!\n",
            "Batch number 12000 is finished!\n",
            "Epoch 19 is finished!\n",
            "Batch number 2000 is finished!\n",
            "Batch number 4000 is finished!\n",
            "Batch number 6000 is finished!\n",
            "Batch number 8000 is finished!\n",
            "Batch number 10000 is finished!\n",
            "Batch number 12000 is finished!\n",
            "Epoch 20 is finished!\n"
          ],
          "name": "stdout"
        }
      ]
    },
    {
      "cell_type": "code",
      "metadata": {
        "colab": {
          "base_uri": "https://localhost:8080/",
          "height": 573
        },
        "id": "EFesBmfU8xJg",
        "outputId": "6aec3090-140e-422f-85d5-71e53addc0be"
      },
      "source": [
        "plot_result(epochs_train_loss, epochs_test_loss, 20, \"Cross Entropy\")\n",
        "plot_result(epochs_train_acc, epochs_test_acc, 20, \"Accuracy\")"
      ],
      "execution_count": null,
      "outputs": [
        {
          "output_type": "display_data",
          "data": {
            "image/png": "[encoded data removed]",
            "text/plain": [
              "<Figure size 432x288 with 1 Axes>"
            ]
          },
          "metadata": {
            "tags": [],
            "needs_background": "light"
          }
        },
        {
          "output_type": "display_data",
          "data": {
            "image/png": "[encoded data removed]",
            "text/plain": [
              "<Figure size 432x288 with 1 Axes>"
            ]
          },
          "metadata": {
            "tags": [],
            "needs_background": "light"
          }
        }
      ]
    },
    {
      "cell_type": "markdown",
      "metadata": {
        "id": "TuyBcZNiTFt6"
      },
      "source": [
        "## 2.3. Different layer count"
      ]
    },
    {
      "cell_type": "markdown",
      "metadata": {
        "id": "RLHvG7u7n621"
      },
      "source": [
        "### CNN With 0 hidden layer"
      ]
    },
    {
      "cell_type": "code",
      "metadata": {
        "id": "mmQ_x8caXasm"
      },
      "source": [
        "class ZeroHiddenLayerCNN(nn.Module):\n",
        "    def __init__(self):\n",
        "        super().__init__()\n",
        "        # Fully connected layers\n",
        "        self.fc1 = nn.Linear(32 * 32 * 3, 256)\n",
        "        self.fc2 = nn.Linear(256, 64)\n",
        "        self.fc3 = nn.Linear(64, 10)\n",
        "\n",
        "        self.ReLU = nn.ReLU()\n",
        "\n",
        "    def forward(self, input):\n",
        "\n",
        "        input = torch.flatten(input, 1)\n",
        "        # Fully connected layers\n",
        "        input = self.fc1(input)\n",
        "        input = self.ReLU(input)\n",
        "        input = self.fc2(input)\n",
        "        input = self.ReLU(input)\n",
        "        input = self.fc3(input)\n",
        "\n",
        "        return input"
      ],
      "execution_count": null,
      "outputs": []
    },
    {
      "cell_type": "code",
      "metadata": {
        "colab": {
          "base_uri": "https://localhost:8080/",
          "height": 1000
        },
        "id": "vqCqUHr_Tjrp",
        "outputId": "68c871a7-a1fc-4e96-8eb2-32ca8103a646"
      },
      "source": [
        "zero_hidden_net = ZeroHiddenLayerCNN()\n",
        "zero_hidden_net.cuda()\n",
        "criterion = nn.CrossEntropyLoss()\n",
        "zero_optimizer = optim.SGD(zero_hidden_net.parameters(), lr=0.001, momentum=0.9)\n",
        "epochs_train_loss, epochs_test_loss, epochs_train_acc, epochs_test_acc = train(zero_hidden_net, train_loader, test_loader, 20, zero_optimizer, criterion, len(train_data), len(test_data))\n",
        "plot_result(epochs_train_loss, epochs_test_loss, 20, \"Cross Entropy\")\n",
        "plot_result(epochs_train_acc, epochs_test_acc, 20, \"Accuracy\")"
      ],
      "execution_count": null,
      "outputs": [
        {
          "output_type": "stream",
          "text": [
            "Batch number 2000 is finished!\n",
            "Batch number 4000 is finished!\n",
            "Batch number 6000 is finished!\n",
            "Batch number 8000 is finished!\n",
            "Batch number 10000 is finished!\n",
            "Batch number 12000 is finished!\n",
            "Epoch 1 is finished!\n",
            "Batch number 2000 is finished!\n",
            "Batch number 4000 is finished!\n",
            "Batch number 6000 is finished!\n",
            "Batch number 8000 is finished!\n",
            "Batch number 10000 is finished!\n",
            "Batch number 12000 is finished!\n",
            "Epoch 2 is finished!\n",
            "Batch number 2000 is finished!\n",
            "Batch number 4000 is finished!\n",
            "Batch number 6000 is finished!\n",
            "Batch number 8000 is finished!\n",
            "Batch number 10000 is finished!\n",
            "Batch number 12000 is finished!\n",
            "Epoch 3 is finished!\n",
            "Batch number 2000 is finished!\n",
            "Batch number 4000 is finished!\n",
            "Batch number 6000 is finished!\n",
            "Batch number 8000 is finished!\n",
            "Batch number 10000 is finished!\n",
            "Batch number 12000 is finished!\n",
            "Epoch 4 is finished!\n",
            "Batch number 2000 is finished!\n",
            "Batch number 4000 is finished!\n",
            "Batch number 6000 is finished!\n",
            "Batch number 8000 is finished!\n",
            "Batch number 10000 is finished!\n",
            "Batch number 12000 is finished!\n",
            "Epoch 5 is finished!\n",
            "Batch number 2000 is finished!\n",
            "Batch number 4000 is finished!\n",
            "Batch number 6000 is finished!\n",
            "Batch number 8000 is finished!\n",
            "Batch number 10000 is finished!\n",
            "Batch number 12000 is finished!\n",
            "Epoch 6 is finished!\n",
            "Batch number 2000 is finished!\n",
            "Batch number 4000 is finished!\n",
            "Batch number 6000 is finished!\n",
            "Batch number 8000 is finished!\n",
            "Batch number 10000 is finished!\n",
            "Batch number 12000 is finished!\n",
            "Epoch 7 is finished!\n",
            "Batch number 2000 is finished!\n",
            "Batch number 4000 is finished!\n",
            "Batch number 6000 is finished!\n",
            "Batch number 8000 is finished!\n",
            "Batch number 10000 is finished!\n",
            "Batch number 12000 is finished!\n",
            "Epoch 8 is finished!\n",
            "Batch number 2000 is finished!\n",
            "Batch number 4000 is finished!\n",
            "Batch number 6000 is finished!\n",
            "Batch number 8000 is finished!\n",
            "Batch number 10000 is finished!\n",
            "Batch number 12000 is finished!\n",
            "Epoch 9 is finished!\n",
            "Batch number 2000 is finished!\n",
            "Batch number 4000 is finished!\n",
            "Batch number 6000 is finished!\n",
            "Batch number 8000 is finished!\n",
            "Batch number 10000 is finished!\n",
            "Batch number 12000 is finished!\n",
            "Epoch 10 is finished!\n",
            "Batch number 2000 is finished!\n",
            "Batch number 4000 is finished!\n",
            "Batch number 6000 is finished!\n",
            "Batch number 8000 is finished!\n",
            "Batch number 10000 is finished!\n",
            "Batch number 12000 is finished!\n",
            "Epoch 11 is finished!\n",
            "Batch number 2000 is finished!\n",
            "Batch number 4000 is finished!\n",
            "Batch number 6000 is finished!\n",
            "Batch number 8000 is finished!\n",
            "Batch number 10000 is finished!\n",
            "Batch number 12000 is finished!\n",
            "Epoch 12 is finished!\n",
            "Batch number 2000 is finished!\n",
            "Batch number 4000 is finished!\n",
            "Batch number 6000 is finished!\n",
            "Batch number 8000 is finished!\n",
            "Batch number 10000 is finished!\n",
            "Batch number 12000 is finished!\n",
            "Epoch 13 is finished!\n",
            "Batch number 2000 is finished!\n",
            "Batch number 4000 is finished!\n",
            "Batch number 6000 is finished!\n",
            "Batch number 8000 is finished!\n",
            "Batch number 10000 is finished!\n",
            "Batch number 12000 is finished!\n",
            "Epoch 14 is finished!\n",
            "Batch number 2000 is finished!\n",
            "Batch number 4000 is finished!\n",
            "Batch number 6000 is finished!\n",
            "Batch number 8000 is finished!\n",
            "Batch number 10000 is finished!\n",
            "Batch number 12000 is finished!\n",
            "Epoch 15 is finished!\n",
            "Batch number 2000 is finished!\n",
            "Batch number 4000 is finished!\n",
            "Batch number 6000 is finished!\n",
            "Batch number 8000 is finished!\n",
            "Batch number 10000 is finished!\n",
            "Batch number 12000 is finished!\n",
            "Epoch 16 is finished!\n",
            "Batch number 2000 is finished!\n",
            "Batch number 4000 is finished!\n",
            "Batch number 6000 is finished!\n",
            "Batch number 8000 is finished!\n",
            "Batch number 10000 is finished!\n",
            "Batch number 12000 is finished!\n",
            "Epoch 17 is finished!\n",
            "Batch number 2000 is finished!\n",
            "Batch number 4000 is finished!\n",
            "Batch number 6000 is finished!\n",
            "Batch number 8000 is finished!\n",
            "Batch number 10000 is finished!\n",
            "Batch number 12000 is finished!\n",
            "Epoch 18 is finished!\n",
            "Batch number 2000 is finished!\n",
            "Batch number 4000 is finished!\n",
            "Batch number 6000 is finished!\n",
            "Batch number 8000 is finished!\n",
            "Batch number 10000 is finished!\n",
            "Batch number 12000 is finished!\n",
            "Epoch 19 is finished!\n",
            "Batch number 2000 is finished!\n",
            "Batch number 4000 is finished!\n",
            "Batch number 6000 is finished!\n",
            "Batch number 8000 is finished!\n",
            "Batch number 10000 is finished!\n",
            "Batch number 12000 is finished!\n",
            "Epoch 20 is finished!\n"
          ],
          "name": "stdout"
        },
        {
          "output_type": "display_data",
          "data": {
            "image/png": "[encoded data removed]",
            "text/plain": [
              "<Figure size 432x288 with 1 Axes>"
            ]
          },
          "metadata": {
            "tags": [],
            "needs_background": "light"
          }
        },
        {
          "output_type": "display_data",
          "data": {
            "image/png": "[encoded data removed]",
            "text/plain": [
              "<Figure size 432x288 with 1 Axes>"
            ]
          },
          "metadata": {
            "tags": [],
            "needs_background": "light"
          }
        }
      ]
    },
    {
      "cell_type": "markdown",
      "metadata": {
        "id": "VMKqvGGLULLn"
      },
      "source": [
        "### CNN With 1 hidden layer"
      ]
    },
    {
      "cell_type": "code",
      "metadata": {
        "id": "g5NadaNSUO3f"
      },
      "source": [
        "class OneHiddenLayerCNN(nn.Module):\n",
        "    def __init__(self):\n",
        "        super().__init__()\n",
        "        # Filter Layer 1\n",
        "        self.conv11 = nn.Conv2d(in_channels=3, out_channels=32, kernel_size=3, padding=1, stride=1)\n",
        "        self.conv12 = nn.Conv2d(in_channels=32, out_channels=72, kernel_size=4, padding=1, stride=1)\n",
        "        self.pool1 = nn.MaxPool2d(kernel_size=2, stride=1)\n",
        "        \n",
        "        # Fully connected layers\n",
        "        self.fc1 = nn.Linear(72 * 30 * 30, 256)\n",
        "        self.fc2 = nn.Linear(256, 64)\n",
        "        self.fc3 = nn.Linear(64, 10)\n",
        "\n",
        "        self.ReLU = nn.ReLU()\n",
        "\n",
        "    def forward(self, input):\n",
        "        # Filter Layer 1\n",
        "        input = self.conv11(input)\n",
        "        input = self.ReLU(input)\n",
        "        input = self.conv12(input)\n",
        "        input = self.ReLU(input)\n",
        "        input = self.pool1(input)\n",
        "\n",
        "        input = torch.flatten(input, 1)\n",
        "        # Fully connected layers\n",
        "        input = self.fc1(input)\n",
        "        input = self.ReLU(input)\n",
        "        input = self.fc2(input)\n",
        "        input = self.ReLU(input)\n",
        "        input = self.fc3(input)\n",
        "\n",
        "        return input"
      ],
      "execution_count": null,
      "outputs": []
    },
    {
      "cell_type": "code",
      "metadata": {
        "colab": {
          "base_uri": "https://localhost:8080/",
          "height": 1000
        },
        "id": "xcsnfqSVU521",
        "outputId": "b2b23ea7-0bfb-485f-a5b6-d1fb4bfdcbcc"
      },
      "source": [
        "one_hidden_net = OneHiddenLayerCNN()\n",
        "one_hidden_net.cuda()\n",
        "criterion = nn.CrossEntropyLoss()\n",
        "one_optimizer = optim.SGD(one_hidden_net.parameters(), lr=0.001, momentum=0.9)\n",
        "epochs_train_loss, epochs_test_loss, epochs_train_acc, epochs_test_acc = train(one_hidden_net, train_loader, test_loader, 20, one_optimizer, criterion, len(train_data), len(test_data))\n",
        "plot_result(epochs_train_loss, epochs_test_loss, 20, \"Cross Entropy\")\n",
        "plot_result(epochs_train_acc, epochs_test_acc, 20, \"Accuracy\")"
      ],
      "execution_count": null,
      "outputs": [
        {
          "output_type": "stream",
          "text": [
            "Batch number 2000 is finished!\n",
            "Batch number 4000 is finished!\n",
            "Batch number 6000 is finished!\n",
            "Batch number 8000 is finished!\n",
            "Batch number 10000 is finished!\n",
            "Batch number 12000 is finished!\n",
            "Epoch 1 is finished!\n",
            "Batch number 2000 is finished!\n",
            "Batch number 4000 is finished!\n",
            "Batch number 6000 is finished!\n",
            "Batch number 8000 is finished!\n",
            "Batch number 10000 is finished!\n",
            "Batch number 12000 is finished!\n",
            "Epoch 2 is finished!\n",
            "Batch number 2000 is finished!\n",
            "Batch number 4000 is finished!\n",
            "Batch number 6000 is finished!\n",
            "Batch number 8000 is finished!\n",
            "Batch number 10000 is finished!\n",
            "Batch number 12000 is finished!\n",
            "Epoch 3 is finished!\n",
            "Batch number 2000 is finished!\n",
            "Batch number 4000 is finished!\n",
            "Batch number 6000 is finished!\n",
            "Batch number 8000 is finished!\n",
            "Batch number 10000 is finished!\n",
            "Batch number 12000 is finished!\n",
            "Epoch 4 is finished!\n",
            "Batch number 2000 is finished!\n",
            "Batch number 4000 is finished!\n",
            "Batch number 6000 is finished!\n",
            "Batch number 8000 is finished!\n",
            "Batch number 10000 is finished!\n",
            "Batch number 12000 is finished!\n",
            "Epoch 5 is finished!\n",
            "Batch number 2000 is finished!\n",
            "Batch number 4000 is finished!\n",
            "Batch number 6000 is finished!\n",
            "Batch number 8000 is finished!\n",
            "Batch number 10000 is finished!\n",
            "Batch number 12000 is finished!\n",
            "Epoch 6 is finished!\n",
            "Batch number 2000 is finished!\n",
            "Batch number 4000 is finished!\n",
            "Batch number 6000 is finished!\n",
            "Batch number 8000 is finished!\n",
            "Batch number 10000 is finished!\n",
            "Batch number 12000 is finished!\n",
            "Epoch 7 is finished!\n",
            "Batch number 2000 is finished!\n",
            "Batch number 4000 is finished!\n",
            "Batch number 6000 is finished!\n",
            "Batch number 8000 is finished!\n",
            "Batch number 10000 is finished!\n",
            "Batch number 12000 is finished!\n",
            "Epoch 8 is finished!\n",
            "Batch number 2000 is finished!\n",
            "Batch number 4000 is finished!\n",
            "Batch number 6000 is finished!\n",
            "Batch number 8000 is finished!\n",
            "Batch number 10000 is finished!\n",
            "Batch number 12000 is finished!\n",
            "Epoch 9 is finished!\n",
            "Batch number 2000 is finished!\n",
            "Batch number 4000 is finished!\n",
            "Batch number 6000 is finished!\n",
            "Batch number 8000 is finished!\n",
            "Batch number 10000 is finished!\n",
            "Batch number 12000 is finished!\n",
            "Epoch 10 is finished!\n",
            "Batch number 2000 is finished!\n",
            "Batch number 4000 is finished!\n",
            "Batch number 6000 is finished!\n",
            "Batch number 8000 is finished!\n",
            "Batch number 10000 is finished!\n",
            "Batch number 12000 is finished!\n",
            "Epoch 11 is finished!\n",
            "Batch number 2000 is finished!\n",
            "Batch number 4000 is finished!\n",
            "Batch number 6000 is finished!\n",
            "Batch number 8000 is finished!\n",
            "Batch number 10000 is finished!\n",
            "Batch number 12000 is finished!\n",
            "Epoch 12 is finished!\n",
            "Batch number 2000 is finished!\n",
            "Batch number 4000 is finished!\n",
            "Batch number 6000 is finished!\n",
            "Batch number 8000 is finished!\n",
            "Batch number 10000 is finished!\n",
            "Batch number 12000 is finished!\n",
            "Epoch 13 is finished!\n",
            "Batch number 2000 is finished!\n",
            "Batch number 4000 is finished!\n",
            "Batch number 6000 is finished!\n",
            "Batch number 8000 is finished!\n",
            "Batch number 10000 is finished!\n",
            "Batch number 12000 is finished!\n",
            "Epoch 14 is finished!\n",
            "Batch number 2000 is finished!\n",
            "Batch number 4000 is finished!\n",
            "Batch number 6000 is finished!\n",
            "Batch number 8000 is finished!\n",
            "Batch number 10000 is finished!\n",
            "Batch number 12000 is finished!\n",
            "Epoch 15 is finished!\n",
            "Batch number 2000 is finished!\n",
            "Batch number 4000 is finished!\n",
            "Batch number 6000 is finished!\n",
            "Batch number 8000 is finished!\n",
            "Batch number 10000 is finished!\n",
            "Batch number 12000 is finished!\n",
            "Epoch 16 is finished!\n",
            "Batch number 2000 is finished!\n",
            "Batch number 4000 is finished!\n",
            "Batch number 6000 is finished!\n",
            "Batch number 8000 is finished!\n",
            "Batch number 10000 is finished!\n",
            "Batch number 12000 is finished!\n",
            "Epoch 17 is finished!\n",
            "Batch number 2000 is finished!\n",
            "Batch number 4000 is finished!\n",
            "Batch number 6000 is finished!\n",
            "Batch number 8000 is finished!\n",
            "Batch number 10000 is finished!\n",
            "Batch number 12000 is finished!\n",
            "Epoch 18 is finished!\n",
            "Batch number 2000 is finished!\n",
            "Batch number 4000 is finished!\n",
            "Batch number 6000 is finished!\n",
            "Batch number 8000 is finished!\n",
            "Batch number 10000 is finished!\n",
            "Batch number 12000 is finished!\n",
            "Epoch 19 is finished!\n",
            "Batch number 2000 is finished!\n",
            "Batch number 4000 is finished!\n",
            "Batch number 6000 is finished!\n",
            "Batch number 8000 is finished!\n",
            "Batch number 10000 is finished!\n",
            "Batch number 12000 is finished!\n",
            "Epoch 20 is finished!\n"
          ],
          "name": "stdout"
        },
        {
          "output_type": "display_data",
          "data": {
            "image/png": "[encoded data removed]",
            "text/plain": [
              "<Figure size 432x288 with 1 Axes>"
            ]
          },
          "metadata": {
            "tags": [],
            "needs_background": "light"
          }
        },
        {
          "output_type": "display_data",
          "data": {
            "image/png": "[encoded data removed]",
            "text/plain": [
              "<Figure size 432x288 with 1 Axes>"
            ]
          },
          "metadata": {
            "tags": [],
            "needs_background": "light"
          }
        }
      ]
    },
    {
      "cell_type": "markdown",
      "metadata": {
        "id": "LdU95HL8VCKl"
      },
      "source": [
        "### CNN With 2 hidden layer"
      ]
    },
    {
      "cell_type": "code",
      "metadata": {
        "id": "KY_StrKMVFLA"
      },
      "source": [
        "class TwoHiddenLayerCNN(nn.Module):\n",
        "    def __init__(self):\n",
        "        super().__init__()\n",
        "        # Filter Layer 1\n",
        "        self.conv11 = nn.Conv2d(in_channels=3, out_channels=32, kernel_size=3, padding=1, stride=1)\n",
        "        self.conv12 = nn.Conv2d(in_channels=32, out_channels=72, kernel_size=4, padding=1, stride=1)\n",
        "        self.pool1 = nn.MaxPool2d(kernel_size=2, stride=1)\n",
        "\n",
        "        # Filter Layer 2\n",
        "        self.conv21 = nn.Conv2d(in_channels=72, out_channels=120, kernel_size=3, padding=1, stride=1)\n",
        "        self.conv22 = nn.Conv2d(in_channels=120, out_channels=64, kernel_size=3, padding=1, stride=1)\n",
        "        self.pool2 = nn.MaxPool2d(kernel_size=2, stride=2)\n",
        "        \n",
        "        # Fully connected layers\n",
        "        self.fc1 = nn.Linear(64 * 15 * 15, 256)\n",
        "        self.fc2 = nn.Linear(256, 64)\n",
        "        self.fc3 = nn.Linear(64, 10)\n",
        "\n",
        "        self.ReLU = nn.ReLU()\n",
        "\n",
        "    def forward(self, input):\n",
        "        # Filter Layer 1\n",
        "        input = self.conv11(input)\n",
        "        input = self.ReLU(input)\n",
        "        input = self.conv12(input)\n",
        "        input = self.ReLU(input)\n",
        "        input = self.pool1(input)\n",
        "\n",
        "        # Filter Layer 2\n",
        "        input = self.conv21(input)\n",
        "        input = self.ReLU(input)\n",
        "        input = self.conv22(input)\n",
        "        input = self.ReLU(input)\n",
        "        input = self.pool2(input)\n",
        "\n",
        "        input = torch.flatten(input, 1)\n",
        "        # Fully connected layers\n",
        "        input = self.fc1(input)\n",
        "        input = self.ReLU(input)\n",
        "        input = self.fc2(input)\n",
        "        input = self.ReLU(input)\n",
        "        input = self.fc3(input)\n",
        "\n",
        "        return input"
      ],
      "execution_count": null,
      "outputs": []
    },
    {
      "cell_type": "code",
      "metadata": {
        "colab": {
          "base_uri": "https://localhost:8080/",
          "height": 1000
        },
        "id": "ajpB0EpvVTWC",
        "outputId": "5fdf1174-d3ae-442b-f8a0-ba1fb1b4ab4b"
      },
      "source": [
        "two_hidden_net = TwoHiddenLayerCNN()\n",
        "two_hidden_net.cuda()\n",
        "criterion = nn.CrossEntropyLoss()\n",
        "two_optimizer = optim.SGD(two_hidden_net.parameters(), lr=0.001, momentum=0.9)\n",
        "epochs_train_loss, epochs_test_loss, epochs_train_acc, epochs_test_acc = train(two_hidden_net, train_loader, test_loader, 20, two_optimizer, criterion, len(train_data), len(test_data))\n",
        "plot_result(epochs_train_loss, epochs_test_loss, 20, \"Cross Entropy\")\n",
        "plot_result(epochs_train_acc, epochs_test_acc, 20, \"Accuracy\")"
      ],
      "execution_count": null,
      "outputs": [
        {
          "output_type": "stream",
          "text": [
            "Batch number 2000 is finished!\n",
            "Batch number 4000 is finished!\n",
            "Batch number 6000 is finished!\n",
            "Batch number 8000 is finished!\n",
            "Batch number 10000 is finished!\n",
            "Batch number 12000 is finished!\n",
            "Epoch 1 is finished!\n",
            "Batch number 2000 is finished!\n",
            "Batch number 4000 is finished!\n",
            "Batch number 6000 is finished!\n",
            "Batch number 8000 is finished!\n",
            "Batch number 10000 is finished!\n",
            "Batch number 12000 is finished!\n",
            "Epoch 2 is finished!\n",
            "Batch number 2000 is finished!\n",
            "Batch number 4000 is finished!\n",
            "Batch number 6000 is finished!\n",
            "Batch number 8000 is finished!\n",
            "Batch number 10000 is finished!\n",
            "Batch number 12000 is finished!\n",
            "Epoch 3 is finished!\n",
            "Batch number 2000 is finished!\n",
            "Batch number 4000 is finished!\n",
            "Batch number 6000 is finished!\n",
            "Batch number 8000 is finished!\n",
            "Batch number 10000 is finished!\n",
            "Batch number 12000 is finished!\n",
            "Epoch 4 is finished!\n",
            "Batch number 2000 is finished!\n",
            "Batch number 4000 is finished!\n",
            "Batch number 6000 is finished!\n",
            "Batch number 8000 is finished!\n",
            "Batch number 10000 is finished!\n",
            "Batch number 12000 is finished!\n",
            "Epoch 5 is finished!\n",
            "Batch number 2000 is finished!\n",
            "Batch number 4000 is finished!\n",
            "Batch number 6000 is finished!\n",
            "Batch number 8000 is finished!\n",
            "Batch number 10000 is finished!\n",
            "Batch number 12000 is finished!\n",
            "Epoch 6 is finished!\n",
            "Batch number 2000 is finished!\n",
            "Batch number 4000 is finished!\n",
            "Batch number 6000 is finished!\n",
            "Batch number 8000 is finished!\n",
            "Batch number 10000 is finished!\n",
            "Batch number 12000 is finished!\n",
            "Epoch 7 is finished!\n",
            "Batch number 2000 is finished!\n",
            "Batch number 4000 is finished!\n",
            "Batch number 6000 is finished!\n",
            "Batch number 8000 is finished!\n",
            "Batch number 10000 is finished!\n",
            "Batch number 12000 is finished!\n",
            "Epoch 8 is finished!\n",
            "Batch number 2000 is finished!\n",
            "Batch number 4000 is finished!\n",
            "Batch number 6000 is finished!\n",
            "Batch number 8000 is finished!\n",
            "Batch number 10000 is finished!\n",
            "Batch number 12000 is finished!\n",
            "Epoch 9 is finished!\n",
            "Batch number 2000 is finished!\n",
            "Batch number 4000 is finished!\n",
            "Batch number 6000 is finished!\n",
            "Batch number 8000 is finished!\n",
            "Batch number 10000 is finished!\n",
            "Batch number 12000 is finished!\n",
            "Epoch 10 is finished!\n",
            "Batch number 2000 is finished!\n",
            "Batch number 4000 is finished!\n",
            "Batch number 6000 is finished!\n",
            "Batch number 8000 is finished!\n",
            "Batch number 10000 is finished!\n",
            "Batch number 12000 is finished!\n",
            "Epoch 11 is finished!\n",
            "Batch number 2000 is finished!\n",
            "Batch number 4000 is finished!\n",
            "Batch number 6000 is finished!\n",
            "Batch number 8000 is finished!\n",
            "Batch number 10000 is finished!\n",
            "Batch number 12000 is finished!\n",
            "Epoch 12 is finished!\n",
            "Batch number 2000 is finished!\n",
            "Batch number 4000 is finished!\n",
            "Batch number 6000 is finished!\n",
            "Batch number 8000 is finished!\n",
            "Batch number 10000 is finished!\n",
            "Batch number 12000 is finished!\n",
            "Epoch 13 is finished!\n",
            "Batch number 2000 is finished!\n",
            "Batch number 4000 is finished!\n",
            "Batch number 6000 is finished!\n",
            "Batch number 8000 is finished!\n",
            "Batch number 10000 is finished!\n",
            "Batch number 12000 is finished!\n",
            "Epoch 14 is finished!\n",
            "Batch number 2000 is finished!\n",
            "Batch number 4000 is finished!\n",
            "Batch number 6000 is finished!\n",
            "Batch number 8000 is finished!\n",
            "Batch number 10000 is finished!\n",
            "Batch number 12000 is finished!\n",
            "Epoch 15 is finished!\n",
            "Batch number 2000 is finished!\n",
            "Batch number 4000 is finished!\n",
            "Batch number 6000 is finished!\n",
            "Batch number 8000 is finished!\n",
            "Batch number 10000 is finished!\n",
            "Batch number 12000 is finished!\n",
            "Epoch 16 is finished!\n",
            "Batch number 2000 is finished!\n",
            "Batch number 4000 is finished!\n",
            "Batch number 6000 is finished!\n",
            "Batch number 8000 is finished!\n",
            "Batch number 10000 is finished!\n",
            "Batch number 12000 is finished!\n",
            "Epoch 17 is finished!\n",
            "Batch number 2000 is finished!\n",
            "Batch number 4000 is finished!\n",
            "Batch number 6000 is finished!\n",
            "Batch number 8000 is finished!\n",
            "Batch number 10000 is finished!\n",
            "Batch number 12000 is finished!\n",
            "Epoch 18 is finished!\n",
            "Batch number 2000 is finished!\n",
            "Batch number 4000 is finished!\n",
            "Batch number 6000 is finished!\n",
            "Batch number 8000 is finished!\n",
            "Batch number 10000 is finished!\n",
            "Batch number 12000 is finished!\n",
            "Epoch 19 is finished!\n",
            "Batch number 2000 is finished!\n",
            "Batch number 4000 is finished!\n",
            "Batch number 6000 is finished!\n",
            "Batch number 8000 is finished!\n",
            "Batch number 10000 is finished!\n",
            "Batch number 12000 is finished!\n",
            "Epoch 20 is finished!\n"
          ],
          "name": "stdout"
        },
        {
          "output_type": "display_data",
          "data": {
            "image/png": "[encoded data removed]",
            "text/plain": [
              "<Figure size 432x288 with 1 Axes>"
            ]
          },
          "metadata": {
            "tags": [],
            "needs_background": "light"
          }
        },
        {
          "output_type": "display_data",
          "data": {
            "image/png": "[encoded data removed]",
            "text/plain": [
              "<Figure size 432x288 with 1 Axes>"
            ]
          },
          "metadata": {
            "tags": [],
            "needs_background": "light"
          }
        }
      ]
    },
    {
      "cell_type": "markdown",
      "metadata": {
        "id": "k0Pt-HVzYWGK"
      },
      "source": [
        "## 2.4. Different activation functions"
      ]
    },
    {
      "cell_type": "code",
      "metadata": {
        "id": "-muDni3VYUnA"
      },
      "source": [
        "class DynamicActivationFuncCNN(nn.Module):\n",
        "    def __init__(self, activation_func):\n",
        "        super().__init__()\n",
        "        # Filter Layer 1\n",
        "        self.conv11 = nn.Conv2d(in_channels=3, out_channels=32, kernel_size=3, padding=1, stride=1)\n",
        "        self.conv12 = nn.Conv2d(in_channels=32, out_channels=72, kernel_size=4, padding=1, stride=1)\n",
        "        self.pool1 = nn.MaxPool2d(kernel_size=2, stride=1)\n",
        "\n",
        "        # Filter Layer 2\n",
        "        self.conv21 = nn.Conv2d(in_channels=72, out_channels=120, kernel_size=3, padding=1, stride=1)\n",
        "        self.conv22 = nn.Conv2d(in_channels=120, out_channels=64, kernel_size=3, padding=1, stride=1)\n",
        "        self.pool2 = nn.MaxPool2d(kernel_size=2, stride=2)\n",
        "\n",
        "        # Filter Layer 3\n",
        "        self.conv31 = nn.Conv2d(in_channels=64, out_channels=45, kernel_size=2, padding=1, stride=1)\n",
        "        self.conv32 = nn.Conv2d(in_channels=45, out_channels=16, kernel_size=3, padding=1, stride=1)\n",
        "        self.pool3 = nn.MaxPool2d(kernel_size=2, stride=2)\n",
        "        \n",
        "        # Fully connected layers\n",
        "        self.fc1 = nn.Linear(16 * 8 * 8, 256)\n",
        "        self.fc2 = nn.Linear(256, 64)\n",
        "        self.fc3 = nn.Linear(64, 10)\n",
        "\n",
        "        self.activation_func = activation_func\n",
        "\n",
        "    def forward(self, input):\n",
        "        # Filter Layer 1\n",
        "        input = self.conv11(input)\n",
        "        input = self.activation_func(input)\n",
        "        input = self.conv12(input)\n",
        "        input = self.activation_func(input)\n",
        "        input = self.pool1(input)\n",
        "\n",
        "        # Filter Layer 2\n",
        "        input = self.conv21(input)\n",
        "        input = self.activation_func(input)\n",
        "        input = self.conv22(input)\n",
        "        input = self.activation_func(input)\n",
        "        input = self.pool2(input)\n",
        "\n",
        "        # Filter Layer 3\n",
        "        input = self.conv31(input)\n",
        "        input = self.activation_func(input)\n",
        "        input = self.conv32(input)\n",
        "        input = self.activation_func(input)\n",
        "        input = self.pool3(input)\n",
        "\n",
        "        input = torch.flatten(input, 1)\n",
        "        # Fully connected layers\n",
        "        input = self.fc1(input)\n",
        "        input = self.activation_func(input)\n",
        "        input = self.fc2(input)\n",
        "        input = self.activation_func(input)\n",
        "        input = self.fc3(input)\n",
        "\n",
        "        return input"
      ],
      "execution_count": null,
      "outputs": []
    },
    {
      "cell_type": "markdown",
      "metadata": {
        "id": "HOJ_5lmsV-p3"
      },
      "source": [
        "### CNN With RELU"
      ]
    },
    {
      "cell_type": "code",
      "metadata": {
        "colab": {
          "base_uri": "https://localhost:8080/"
        },
        "id": "zRxfCHXEYFVa",
        "outputId": "192c17e9-45ac-418a-e10f-26dea6b49eba"
      },
      "source": [
        "relu_net = DynamicActivationFuncCNN(nn.ReLU())\n",
        "relu_net.cuda()\n",
        "criterion = nn.CrossEntropyLoss()\n",
        "relu_optimizer = optim.SGD(relu_net.parameters(), lr=0.001, momentum=0.9)\n",
        "_, _, _, relu_epochs_test_acc = train(relu_net, train_loader, test_loader, 10, relu_optimizer, criterion, len(train_data), len(test_data))"
      ],
      "execution_count": null,
      "outputs": [
        {
          "output_type": "stream",
          "text": [
            "Batch number 2000 is finished!\n",
            "Batch number 4000 is finished!\n",
            "Batch number 6000 is finished!\n",
            "Batch number 8000 is finished!\n",
            "Batch number 10000 is finished!\n",
            "Batch number 12000 is finished!\n",
            "Epoch 1 is finished!\n",
            "Batch number 2000 is finished!\n",
            "Batch number 4000 is finished!\n",
            "Batch number 6000 is finished!\n",
            "Batch number 8000 is finished!\n",
            "Batch number 10000 is finished!\n",
            "Batch number 12000 is finished!\n",
            "Epoch 2 is finished!\n",
            "Batch number 2000 is finished!\n",
            "Batch number 4000 is finished!\n",
            "Batch number 6000 is finished!\n",
            "Batch number 8000 is finished!\n",
            "Batch number 10000 is finished!\n",
            "Batch number 12000 is finished!\n",
            "Epoch 3 is finished!\n",
            "Batch number 2000 is finished!\n",
            "Batch number 4000 is finished!\n",
            "Batch number 6000 is finished!\n",
            "Batch number 8000 is finished!\n",
            "Batch number 10000 is finished!\n",
            "Batch number 12000 is finished!\n",
            "Epoch 4 is finished!\n",
            "Batch number 2000 is finished!\n",
            "Batch number 4000 is finished!\n",
            "Batch number 6000 is finished!\n",
            "Batch number 8000 is finished!\n",
            "Batch number 10000 is finished!\n",
            "Batch number 12000 is finished!\n",
            "Epoch 5 is finished!\n",
            "Batch number 2000 is finished!\n",
            "Batch number 4000 is finished!\n",
            "Batch number 6000 is finished!\n",
            "Batch number 8000 is finished!\n",
            "Batch number 10000 is finished!\n",
            "Batch number 12000 is finished!\n",
            "Epoch 6 is finished!\n",
            "Batch number 2000 is finished!\n",
            "Batch number 4000 is finished!\n",
            "Batch number 6000 is finished!\n",
            "Batch number 8000 is finished!\n",
            "Batch number 10000 is finished!\n",
            "Batch number 12000 is finished!\n",
            "Epoch 7 is finished!\n",
            "Batch number 2000 is finished!\n",
            "Batch number 4000 is finished!\n",
            "Batch number 6000 is finished!\n",
            "Batch number 8000 is finished!\n",
            "Batch number 10000 is finished!\n",
            "Batch number 12000 is finished!\n",
            "Epoch 8 is finished!\n",
            "Batch number 2000 is finished!\n",
            "Batch number 4000 is finished!\n",
            "Batch number 6000 is finished!\n",
            "Batch number 8000 is finished!\n",
            "Batch number 10000 is finished!\n",
            "Batch number 12000 is finished!\n",
            "Epoch 9 is finished!\n",
            "Batch number 2000 is finished!\n",
            "Batch number 4000 is finished!\n",
            "Batch number 6000 is finished!\n",
            "Batch number 8000 is finished!\n",
            "Batch number 10000 is finished!\n",
            "Batch number 12000 is finished!\n",
            "Epoch 10 is finished!\n"
          ],
          "name": "stdout"
        }
      ]
    },
    {
      "cell_type": "markdown",
      "metadata": {
        "id": "V3SauDZEYGnC"
      },
      "source": [
        "### CNN With Sigmoid"
      ]
    },
    {
      "cell_type": "code",
      "metadata": {
        "id": "jAxBlLHPYLxx",
        "colab": {
          "base_uri": "https://localhost:8080/"
        },
        "outputId": "09f22bc0-3d16-40ac-e7f5-d332894d5ece"
      },
      "source": [
        "sigmoid_net = DynamicActivationFuncCNN(nn.Sigmoid())\n",
        "sigmoid_net.cuda()\n",
        "criterion = nn.CrossEntropyLoss()\n",
        "sigmoid_optimizer = optim.SGD(sigmoid_net.parameters(), lr=0.001, momentum=0.9)\n",
        "_, _, _, sigmoid_epochs_test_acc = train(sigmoid_net, train_loader, test_loader, 10, sigmoid_optimizer, criterion, len(train_data), len(test_data))"
      ],
      "execution_count": null,
      "outputs": [
        {
          "output_type": "stream",
          "text": [
            "Batch number 2000 is finished!\n",
            "Batch number 4000 is finished!\n",
            "Batch number 6000 is finished!\n",
            "Batch number 8000 is finished!\n",
            "Batch number 10000 is finished!\n",
            "Batch number 12000 is finished!\n",
            "Epoch 1 is finished!\n",
            "Batch number 2000 is finished!\n",
            "Batch number 4000 is finished!\n",
            "Batch number 6000 is finished!\n",
            "Batch number 8000 is finished!\n",
            "Batch number 10000 is finished!\n",
            "Batch number 12000 is finished!\n",
            "Epoch 2 is finished!\n",
            "Batch number 2000 is finished!\n",
            "Batch number 4000 is finished!\n",
            "Batch number 6000 is finished!\n",
            "Batch number 8000 is finished!\n",
            "Batch number 10000 is finished!\n",
            "Batch number 12000 is finished!\n",
            "Epoch 3 is finished!\n",
            "Batch number 2000 is finished!\n",
            "Batch number 4000 is finished!\n",
            "Batch number 6000 is finished!\n",
            "Batch number 8000 is finished!\n",
            "Batch number 10000 is finished!\n",
            "Batch number 12000 is finished!\n",
            "Epoch 4 is finished!\n",
            "Batch number 2000 is finished!\n",
            "Batch number 4000 is finished!\n",
            "Batch number 6000 is finished!\n",
            "Batch number 8000 is finished!\n",
            "Batch number 10000 is finished!\n",
            "Batch number 12000 is finished!\n",
            "Epoch 5 is finished!\n",
            "Batch number 2000 is finished!\n",
            "Batch number 4000 is finished!\n",
            "Batch number 6000 is finished!\n",
            "Batch number 8000 is finished!\n",
            "Batch number 10000 is finished!\n",
            "Batch number 12000 is finished!\n",
            "Epoch 6 is finished!\n",
            "Batch number 2000 is finished!\n",
            "Batch number 4000 is finished!\n",
            "Batch number 6000 is finished!\n",
            "Batch number 8000 is finished!\n",
            "Batch number 10000 is finished!\n",
            "Batch number 12000 is finished!\n",
            "Epoch 7 is finished!\n",
            "Batch number 2000 is finished!\n",
            "Batch number 4000 is finished!\n",
            "Batch number 6000 is finished!\n",
            "Batch number 8000 is finished!\n",
            "Batch number 10000 is finished!\n",
            "Batch number 12000 is finished!\n",
            "Epoch 8 is finished!\n",
            "Batch number 2000 is finished!\n",
            "Batch number 4000 is finished!\n",
            "Batch number 6000 is finished!\n",
            "Batch number 8000 is finished!\n",
            "Batch number 10000 is finished!\n",
            "Batch number 12000 is finished!\n",
            "Epoch 9 is finished!\n",
            "Batch number 2000 is finished!\n",
            "Batch number 4000 is finished!\n",
            "Batch number 6000 is finished!\n",
            "Batch number 8000 is finished!\n",
            "Batch number 10000 is finished!\n",
            "Batch number 12000 is finished!\n",
            "Epoch 10 is finished!\n"
          ],
          "name": "stdout"
        }
      ]
    },
    {
      "cell_type": "markdown",
      "metadata": {
        "id": "7xkpprX2YMQP"
      },
      "source": [
        "### CNN With Tanh"
      ]
    },
    {
      "cell_type": "code",
      "metadata": {
        "id": "PDOIld_eYPaK",
        "colab": {
          "base_uri": "https://localhost:8080/"
        },
        "outputId": "e3c26ad7-7e2c-4864-9ee5-212c99384f55"
      },
      "source": [
        "tanh_net = DynamicActivationFuncCNN(nn.Tanh())\n",
        "tanh_net.cuda()\n",
        "criterion = nn.CrossEntropyLoss()\n",
        "tanh_optimizer = optim.SGD(tanh_net.parameters(), lr=0.001, momentum=0.9)\n",
        "_, _, _, tanh_epochs_test_acc = train(tanh_net, train_loader, test_loader, 10, tanh_optimizer, criterion, len(train_data), len(test_data))"
      ],
      "execution_count": null,
      "outputs": [
        {
          "output_type": "stream",
          "text": [
            "Batch number 2000 is finished!\n",
            "Batch number 4000 is finished!\n",
            "Batch number 6000 is finished!\n",
            "Batch number 8000 is finished!\n",
            "Batch number 10000 is finished!\n",
            "Batch number 12000 is finished!\n",
            "Epoch 1 is finished!\n",
            "Batch number 2000 is finished!\n",
            "Batch number 4000 is finished!\n",
            "Batch number 6000 is finished!\n",
            "Batch number 8000 is finished!\n",
            "Batch number 10000 is finished!\n",
            "Batch number 12000 is finished!\n",
            "Epoch 2 is finished!\n",
            "Batch number 2000 is finished!\n",
            "Batch number 4000 is finished!\n",
            "Batch number 6000 is finished!\n",
            "Batch number 8000 is finished!\n",
            "Batch number 10000 is finished!\n",
            "Batch number 12000 is finished!\n",
            "Epoch 3 is finished!\n",
            "Batch number 2000 is finished!\n",
            "Batch number 4000 is finished!\n",
            "Batch number 6000 is finished!\n",
            "Batch number 8000 is finished!\n",
            "Batch number 10000 is finished!\n",
            "Batch number 12000 is finished!\n",
            "Epoch 4 is finished!\n",
            "Batch number 2000 is finished!\n",
            "Batch number 4000 is finished!\n",
            "Batch number 6000 is finished!\n",
            "Batch number 8000 is finished!\n",
            "Batch number 10000 is finished!\n",
            "Batch number 12000 is finished!\n",
            "Epoch 5 is finished!\n",
            "Batch number 2000 is finished!\n",
            "Batch number 4000 is finished!\n",
            "Batch number 6000 is finished!\n",
            "Batch number 8000 is finished!\n",
            "Batch number 10000 is finished!\n",
            "Batch number 12000 is finished!\n",
            "Epoch 6 is finished!\n",
            "Batch number 2000 is finished!\n",
            "Batch number 4000 is finished!\n",
            "Batch number 6000 is finished!\n",
            "Batch number 8000 is finished!\n",
            "Batch number 10000 is finished!\n",
            "Batch number 12000 is finished!\n",
            "Epoch 7 is finished!\n",
            "Batch number 2000 is finished!\n",
            "Batch number 4000 is finished!\n",
            "Batch number 6000 is finished!\n",
            "Batch number 8000 is finished!\n",
            "Batch number 10000 is finished!\n",
            "Batch number 12000 is finished!\n",
            "Epoch 8 is finished!\n",
            "Batch number 2000 is finished!\n",
            "Batch number 4000 is finished!\n",
            "Batch number 6000 is finished!\n",
            "Batch number 8000 is finished!\n",
            "Batch number 10000 is finished!\n",
            "Batch number 12000 is finished!\n",
            "Epoch 9 is finished!\n",
            "Batch number 2000 is finished!\n",
            "Batch number 4000 is finished!\n",
            "Batch number 6000 is finished!\n",
            "Batch number 8000 is finished!\n",
            "Batch number 10000 is finished!\n",
            "Batch number 12000 is finished!\n",
            "Epoch 10 is finished!\n"
          ],
          "name": "stdout"
        }
      ]
    },
    {
      "cell_type": "markdown",
      "metadata": {
        "id": "l-ESa4XEcDeT"
      },
      "source": [
        "### Plot different methods results"
      ]
    },
    {
      "cell_type": "code",
      "metadata": {
        "id": "NE5bDpJ1b9Xc"
      },
      "source": [
        "def plot_different_methods_results(plot_values, plot_legends, epochs_num, title):\n",
        "  x_axis = range(1, epochs_num+1)\n",
        "  x_label = 'Epoch'\n",
        "  for values in plot_values:\n",
        "    plt.plot(x_axis, values)\n",
        "  plt.title(title)\n",
        "  plt.xlabel(x_label)\n",
        "  plt.legend(plot_legends)\n",
        "  plt.show()"
      ],
      "execution_count": null,
      "outputs": []
    },
    {
      "cell_type": "code",
      "metadata": {
        "id": "n8U5hVE1cubN",
        "colab": {
          "base_uri": "https://localhost:8080/",
          "height": 295
        },
        "outputId": "bd807d00-3372-4603-cad0-4853d2ba1d09"
      },
      "source": [
        "different_methods_acc = [relu_epochs_test_acc, sigmoid_epochs_test_acc, tanh_epochs_test_acc]\n",
        "plot_legends = ['ReLU', 'Sigmoid', 'Tanh']\n",
        "plot_different_methods_results(different_methods_acc, plot_legends, 10, 'Different activation functions')"
      ],
      "execution_count": null,
      "outputs": [
        {
          "output_type": "display_data",
          "data": {
            "image/png": "[encoded data removed]",
            "text/plain": [
              "<Figure size 432x288 with 1 Axes>"
            ]
          },
          "metadata": {
            "tags": [],
            "needs_background": "light"
          }
        }
      ]
    },
    {
      "cell_type": "markdown",
      "metadata": {
        "id": "OBY89-kpZtyI"
      },
      "source": [
        "## 2.5. Different Optimizers"
      ]
    },
    {
      "cell_type": "markdown",
      "metadata": {
        "id": "2bbsKRwDZvsv"
      },
      "source": [
        "### Adam"
      ]
    },
    {
      "cell_type": "code",
      "metadata": {
        "id": "eA4c-VlVZxbl",
        "colab": {
          "base_uri": "https://localhost:8080/"
        },
        "outputId": "5bd42506-345d-4fe6-dae7-be338fb426e9"
      },
      "source": [
        "adam_net = BaseCNN()\n",
        "adam_net.cuda()\n",
        "criterion = nn.CrossEntropyLoss()\n",
        "adam_optimizer = optim.Adam(adam_net.parameters(), lr=0.001)\n",
        "_, _, _, adam_epochs_test_acc = train(adam_net, train_loader, test_loader, 10, adam_optimizer, criterion, len(train_data), len(test_data))"
      ],
      "execution_count": null,
      "outputs": [
        {
          "output_type": "stream",
          "text": [
            "Batch number 2000 is finished!\n",
            "Batch number 4000 is finished!\n",
            "Batch number 6000 is finished!\n",
            "Batch number 8000 is finished!\n",
            "Batch number 10000 is finished!\n",
            "Batch number 12000 is finished!\n",
            "Epoch 1 is finished!\n",
            "Batch number 2000 is finished!\n",
            "Batch number 4000 is finished!\n",
            "Batch number 6000 is finished!\n",
            "Batch number 8000 is finished!\n",
            "Batch number 10000 is finished!\n",
            "Batch number 12000 is finished!\n",
            "Epoch 2 is finished!\n",
            "Batch number 2000 is finished!\n",
            "Batch number 4000 is finished!\n",
            "Batch number 6000 is finished!\n",
            "Batch number 8000 is finished!\n",
            "Batch number 10000 is finished!\n",
            "Batch number 12000 is finished!\n",
            "Epoch 3 is finished!\n",
            "Batch number 2000 is finished!\n",
            "Batch number 4000 is finished!\n",
            "Batch number 6000 is finished!\n",
            "Batch number 8000 is finished!\n",
            "Batch number 10000 is finished!\n",
            "Batch number 12000 is finished!\n",
            "Epoch 4 is finished!\n",
            "Batch number 2000 is finished!\n",
            "Batch number 4000 is finished!\n",
            "Batch number 6000 is finished!\n",
            "Batch number 8000 is finished!\n",
            "Batch number 10000 is finished!\n",
            "Batch number 12000 is finished!\n",
            "Epoch 5 is finished!\n",
            "Batch number 2000 is finished!\n",
            "Batch number 4000 is finished!\n",
            "Batch number 6000 is finished!\n",
            "Batch number 8000 is finished!\n",
            "Batch number 10000 is finished!\n",
            "Batch number 12000 is finished!\n",
            "Epoch 6 is finished!\n",
            "Batch number 2000 is finished!\n",
            "Batch number 4000 is finished!\n",
            "Batch number 6000 is finished!\n",
            "Batch number 8000 is finished!\n",
            "Batch number 10000 is finished!\n",
            "Batch number 12000 is finished!\n",
            "Epoch 7 is finished!\n",
            "Batch number 2000 is finished!\n",
            "Batch number 4000 is finished!\n",
            "Batch number 6000 is finished!\n",
            "Batch number 8000 is finished!\n",
            "Batch number 10000 is finished!\n",
            "Batch number 12000 is finished!\n",
            "Epoch 8 is finished!\n",
            "Batch number 2000 is finished!\n",
            "Batch number 4000 is finished!\n",
            "Batch number 6000 is finished!\n",
            "Batch number 8000 is finished!\n",
            "Batch number 10000 is finished!\n",
            "Batch number 12000 is finished!\n",
            "Epoch 9 is finished!\n",
            "Batch number 2000 is finished!\n",
            "Batch number 4000 is finished!\n",
            "Batch number 6000 is finished!\n",
            "Batch number 8000 is finished!\n",
            "Batch number 10000 is finished!\n",
            "Batch number 12000 is finished!\n",
            "Epoch 10 is finished!\n"
          ],
          "name": "stdout"
        }
      ]
    },
    {
      "cell_type": "markdown",
      "metadata": {
        "id": "0rngKOVOZx0A"
      },
      "source": [
        "### Gradient Descent\n",
        "It's has been done in previous part ReLU funtion."
      ]
    },
    {
      "cell_type": "markdown",
      "metadata": {
        "id": "LvLeFyL_nyeH"
      },
      "source": [
        "### Plot different optimizers results"
      ]
    },
    {
      "cell_type": "code",
      "metadata": {
        "id": "DZzXZUbZZ28R",
        "colab": {
          "base_uri": "https://localhost:8080/",
          "height": 295
        },
        "outputId": "97c746ed-2b50-4498-e481-fa62f1518617"
      },
      "source": [
        "different_methods_acc = [relu_epochs_test_acc, adam_epochs_test_acc]\n",
        "plot_legends = ['Gradient Descent', 'Adam']\n",
        "plot_different_methods_results(different_methods_acc, plot_legends, 10, 'Different Optimizers')"
      ],
      "execution_count": null,
      "outputs": [
        {
          "output_type": "display_data",
          "data": {
            "image/png": "[encoded data removed]",
            "text/plain": [
              "<Figure size 432x288 with 1 Axes>"
            ]
          },
          "metadata": {
            "tags": [],
            "needs_background": "light"
          }
        }
      ]
    },
    {
      "cell_type": "markdown",
      "metadata": {
        "id": "ocbFiAnebFjy"
      },
      "source": [
        "## 2.6. Reduce data size"
      ]
    },
    {
      "cell_type": "code",
      "metadata": {
        "id": "gCLx2gBOmD9J",
        "colab": {
          "base_uri": "https://localhost:8080/",
          "height": 913
        },
        "outputId": "6573a70c-2126-4a96-ddfe-9089353d0078"
      },
      "source": [
        "def downsample_each_class(data_tensor, class_count):\n",
        "  data = data_tensor.data\n",
        "  targets = data_tensor.targets\n",
        "  class_indices = {}\n",
        "  for index, id in enumerate(targets):\n",
        "    if id not in class_indices:\n",
        "      class_indices[id] = list()\n",
        "    class_indices[id].append(index)\n",
        "  selected_indices = []\n",
        "  for class_id, class_index in class_indices.items():\n",
        "    class_selected_indices = sample(class_index, class_count)\n",
        "    selected_indices.extend(class_selected_indices)\n",
        "  reduced_data = torch.utils.data.Subset(train_data, selected_indices)\n",
        "  return reduced_data\n",
        "  \n",
        "reduced_train_data = downsample_each_class(train_data, 600)\n",
        "reduced_train_loader = torch.utils.data.DataLoader(reduced_train_data, batch_size=batch_size, \n",
        "                                                   shuffle=True)\n",
        "reduced_base_net = BaseCNN()\n",
        "reduced_base_net.cuda()\n",
        "criterion = nn.CrossEntropyLoss()\n",
        "base_optimizer = optim.SGD(reduced_base_net.parameters(), lr=0.001, momentum=0.9)\n",
        "epochs_train_loss, epochs_test_loss, epochs_train_acc, epochs_test_acc = train(reduced_base_net, reduced_train_loader, test_loader, 20, base_optimizer, \n",
        "                                                                               criterion, len(reduced_train_data), len(test_data))\n",
        "plot_result(epochs_train_loss, epochs_test_loss, 20, \"Cross Entropy\")\n",
        "plot_result(epochs_train_acc, epochs_test_acc, 20, \"Accuracy\")"
      ],
      "execution_count": null,
      "outputs": [
        {
          "output_type": "stream",
          "text": [
            "Epoch 1 is finished!\n",
            "Epoch 2 is finished!\n",
            "Epoch 3 is finished!\n",
            "Epoch 4 is finished!\n",
            "Epoch 5 is finished!\n",
            "Epoch 6 is finished!\n",
            "Epoch 7 is finished!\n",
            "Epoch 8 is finished!\n",
            "Epoch 9 is finished!\n",
            "Epoch 10 is finished!\n",
            "Epoch 11 is finished!\n",
            "Epoch 12 is finished!\n",
            "Epoch 13 is finished!\n",
            "Epoch 14 is finished!\n",
            "Epoch 15 is finished!\n",
            "Epoch 16 is finished!\n",
            "Epoch 17 is finished!\n",
            "Epoch 18 is finished!\n",
            "Epoch 19 is finished!\n",
            "Epoch 20 is finished!\n"
          ],
          "name": "stdout"
        },
        {
          "output_type": "display_data",
          "data": {
            "image/png": "[encoded data removed]",
            "text/plain": [
              "<Figure size 432x288 with 1 Axes>"
            ]
          },
          "metadata": {
            "tags": [],
            "needs_background": "light"
          }
        },
        {
          "output_type": "display_data",
          "data": {
            "image/png": "[encoded data removed]",
            "text/plain": [
              "<Figure size 432x288 with 1 Axes>"
            ]
          },
          "metadata": {
            "tags": [],
            "needs_background": "light"
          }
        }
      ]
    },
    {
      "cell_type": "markdown",
      "metadata": {
        "id": "8VyKFp8uezNF"
      },
      "source": [
        "## 2.7. Replace 2 convolution in each layer to 1 with bigger kernel size"
      ]
    },
    {
      "cell_type": "code",
      "metadata": {
        "id": "qpJAFykze78y"
      },
      "source": [
        "class BiggerKernelCNN(nn.Module):\n",
        "    def __init__(self):\n",
        "        super().__init__()\n",
        "        # Filter Layer 1\n",
        "        self.conv11 = nn.Conv2d(in_channels=3, out_channels=32, kernel_size=5, padding=1, stride=1)\n",
        "        self.pool1 = nn.MaxPool2d(kernel_size=2, stride=2)\n",
        "\n",
        "        # Filter Layer 2\n",
        "        self.conv21 = nn.Conv2d(in_channels=32, out_channels=64, kernel_size=5, padding=1, stride=1)\n",
        "        self.pool2 = nn.MaxPool2d(kernel_size=2, stride=2)\n",
        "\n",
        "        # Filter Layer 3\n",
        "        self.conv31 = nn.Conv2d(in_channels=64, out_channels=16, kernel_size=5, padding=1, stride=1)\n",
        "        self.pool3 = nn.MaxPool2d(kernel_size=2, stride=2)\n",
        "        \n",
        "        # Fully connected layers\n",
        "        self.fc1 = nn.Linear(16 * 2 * 2, 256)\n",
        "        self.fc2 = nn.Linear(256, 64)\n",
        "        self.fc3 = nn.Linear(64, 10)\n",
        "\n",
        "        self.ReLU = nn.ReLU()\n",
        "\n",
        "    def forward(self, input):\n",
        "        # Filter Layer 1\n",
        "        input = self.conv11(input)\n",
        "        input = self.ReLU(input)\n",
        "        input = self.pool1(input)\n",
        "\n",
        "        # Filter Layer 2\n",
        "        input = self.conv21(input)\n",
        "        input = self.ReLU(input)\n",
        "        input = self.pool2(input)\n",
        "\n",
        "        # Filter Layer 3\n",
        "        input = self.conv31(input)\n",
        "        input = self.ReLU(input)\n",
        "        input = self.pool3(input)\n",
        "\n",
        "        input = torch.flatten(input, 1)\n",
        "        # Fully connected layers\n",
        "        input = self.fc1(input)\n",
        "        input = self.ReLU(input)\n",
        "        input = self.fc2(input)\n",
        "        input = self.ReLU(input)\n",
        "        input = self.fc3(input)\n",
        "\n",
        "        return input"
      ],
      "execution_count": null,
      "outputs": []
    },
    {
      "cell_type": "code",
      "metadata": {
        "id": "H7l7NwF8gCfo",
        "colab": {
          "base_uri": "https://localhost:8080/",
          "height": 1000
        },
        "outputId": "7c8c1522-7dc0-49a9-99b1-3f29c3bbcabb"
      },
      "source": [
        "big_net = BiggerKernelCNN()\n",
        "big_net.cuda()\n",
        "criterion = nn.CrossEntropyLoss()\n",
        "big_optimizer = optim.SGD(big_net.parameters(), lr=0.001, momentum=0.9)\n",
        "epochs_train_loss, epochs_test_loss, epochs_train_acc, epochs_test_acc = train(big_net, train_loader, test_loader, 20, big_optimizer, criterion, len(train_data), len(test_data))\n",
        "plot_result(epochs_train_loss, epochs_test_loss, 20, \"Cross Entropy\")\n",
        "plot_result(epochs_train_acc, epochs_test_acc, 20, \"Accuracy\")"
      ],
      "execution_count": null,
      "outputs": [
        {
          "output_type": "stream",
          "text": [
            "Batch number 2000 is finished!\n",
            "Batch number 4000 is finished!\n",
            "Batch number 6000 is finished!\n",
            "Batch number 8000 is finished!\n",
            "Batch number 10000 is finished!\n",
            "Batch number 12000 is finished!\n",
            "Epoch 1 is finished!\n",
            "Batch number 2000 is finished!\n",
            "Batch number 4000 is finished!\n",
            "Batch number 6000 is finished!\n",
            "Batch number 8000 is finished!\n",
            "Batch number 10000 is finished!\n",
            "Batch number 12000 is finished!\n",
            "Epoch 2 is finished!\n",
            "Batch number 2000 is finished!\n",
            "Batch number 4000 is finished!\n",
            "Batch number 6000 is finished!\n",
            "Batch number 8000 is finished!\n",
            "Batch number 10000 is finished!\n",
            "Batch number 12000 is finished!\n",
            "Epoch 3 is finished!\n",
            "Batch number 2000 is finished!\n",
            "Batch number 4000 is finished!\n",
            "Batch number 6000 is finished!\n",
            "Batch number 8000 is finished!\n",
            "Batch number 10000 is finished!\n",
            "Batch number 12000 is finished!\n",
            "Epoch 4 is finished!\n",
            "Batch number 2000 is finished!\n",
            "Batch number 4000 is finished!\n",
            "Batch number 6000 is finished!\n",
            "Batch number 8000 is finished!\n",
            "Batch number 10000 is finished!\n",
            "Batch number 12000 is finished!\n",
            "Epoch 5 is finished!\n",
            "Batch number 2000 is finished!\n",
            "Batch number 4000 is finished!\n",
            "Batch number 6000 is finished!\n",
            "Batch number 8000 is finished!\n",
            "Batch number 10000 is finished!\n",
            "Batch number 12000 is finished!\n",
            "Epoch 6 is finished!\n",
            "Batch number 2000 is finished!\n",
            "Batch number 4000 is finished!\n",
            "Batch number 6000 is finished!\n",
            "Batch number 8000 is finished!\n",
            "Batch number 10000 is finished!\n",
            "Batch number 12000 is finished!\n",
            "Epoch 7 is finished!\n",
            "Batch number 2000 is finished!\n",
            "Batch number 4000 is finished!\n",
            "Batch number 6000 is finished!\n",
            "Batch number 8000 is finished!\n",
            "Batch number 10000 is finished!\n",
            "Batch number 12000 is finished!\n",
            "Epoch 8 is finished!\n",
            "Batch number 2000 is finished!\n",
            "Batch number 4000 is finished!\n",
            "Batch number 6000 is finished!\n",
            "Batch number 8000 is finished!\n",
            "Batch number 10000 is finished!\n",
            "Batch number 12000 is finished!\n",
            "Epoch 9 is finished!\n",
            "Batch number 2000 is finished!\n",
            "Batch number 4000 is finished!\n",
            "Batch number 6000 is finished!\n",
            "Batch number 8000 is finished!\n",
            "Batch number 10000 is finished!\n",
            "Batch number 12000 is finished!\n",
            "Epoch 10 is finished!\n",
            "Batch number 2000 is finished!\n",
            "Batch number 4000 is finished!\n",
            "Batch number 6000 is finished!\n",
            "Batch number 8000 is finished!\n",
            "Batch number 10000 is finished!\n",
            "Batch number 12000 is finished!\n",
            "Epoch 11 is finished!\n",
            "Batch number 2000 is finished!\n",
            "Batch number 4000 is finished!\n",
            "Batch number 6000 is finished!\n",
            "Batch number 8000 is finished!\n",
            "Batch number 10000 is finished!\n",
            "Batch number 12000 is finished!\n",
            "Epoch 12 is finished!\n",
            "Batch number 2000 is finished!\n",
            "Batch number 4000 is finished!\n",
            "Batch number 6000 is finished!\n",
            "Batch number 8000 is finished!\n",
            "Batch number 10000 is finished!\n",
            "Batch number 12000 is finished!\n",
            "Epoch 13 is finished!\n",
            "Batch number 2000 is finished!\n",
            "Batch number 4000 is finished!\n",
            "Batch number 6000 is finished!\n",
            "Batch number 8000 is finished!\n",
            "Batch number 10000 is finished!\n",
            "Batch number 12000 is finished!\n",
            "Epoch 14 is finished!\n",
            "Batch number 2000 is finished!\n",
            "Batch number 4000 is finished!\n",
            "Batch number 6000 is finished!\n",
            "Batch number 8000 is finished!\n",
            "Batch number 10000 is finished!\n",
            "Batch number 12000 is finished!\n",
            "Epoch 15 is finished!\n",
            "Batch number 2000 is finished!\n",
            "Batch number 4000 is finished!\n",
            "Batch number 6000 is finished!\n",
            "Batch number 8000 is finished!\n",
            "Batch number 10000 is finished!\n",
            "Batch number 12000 is finished!\n",
            "Epoch 16 is finished!\n",
            "Batch number 2000 is finished!\n",
            "Batch number 4000 is finished!\n",
            "Batch number 6000 is finished!\n",
            "Batch number 8000 is finished!\n",
            "Batch number 10000 is finished!\n",
            "Batch number 12000 is finished!\n",
            "Epoch 17 is finished!\n",
            "Batch number 2000 is finished!\n",
            "Batch number 4000 is finished!\n",
            "Batch number 6000 is finished!\n",
            "Batch number 8000 is finished!\n",
            "Batch number 10000 is finished!\n",
            "Batch number 12000 is finished!\n",
            "Epoch 18 is finished!\n",
            "Batch number 2000 is finished!\n",
            "Batch number 4000 is finished!\n",
            "Batch number 6000 is finished!\n",
            "Batch number 8000 is finished!\n",
            "Batch number 10000 is finished!\n",
            "Batch number 12000 is finished!\n",
            "Epoch 19 is finished!\n",
            "Batch number 2000 is finished!\n",
            "Batch number 4000 is finished!\n",
            "Batch number 6000 is finished!\n",
            "Batch number 8000 is finished!\n",
            "Batch number 10000 is finished!\n",
            "Batch number 12000 is finished!\n",
            "Epoch 20 is finished!\n"
          ],
          "name": "stdout"
        },
        {
          "output_type": "display_data",
          "data": {
            "image/png": "[encoded data removed]",
            "text/plain": [
              "<Figure size 432x288 with 1 Axes>"
            ]
          },
          "metadata": {
            "tags": [],
            "needs_background": "light"
          }
        },
        {
          "output_type": "display_data",
          "data": {
            "image/png": "[encoded data removed]",
            "text/plain": [
              "<Figure size 432x288 with 1 Axes>"
            ]
          },
          "metadata": {
            "tags": [],
            "needs_background": "light"
          }
        }
      ]
    },
    {
      "cell_type": "markdown",
      "metadata": {
        "id": "keoXBKTZi3En"
      },
      "source": [
        "## 2.8. Add dropout after each activation function"
      ]
    },
    {
      "cell_type": "markdown",
      "metadata": {
        "id": "Xl0WxRrMndNH"
      },
      "source": [
        "### 10 Percent dropout"
      ]
    },
    {
      "cell_type": "code",
      "metadata": {
        "id": "1mCvhncgi5af"
      },
      "source": [
        "class DropoutTenCNN(nn.Module):\n",
        "    def __init__(self):\n",
        "        super().__init__()\n",
        "        # Filter Layer 1\n",
        "        self.conv11 = nn.Conv2d(in_channels=3, out_channels=32, kernel_size=3, padding=1, stride=1)\n",
        "        self.conv12 = nn.Conv2d(in_channels=32, out_channels=72, kernel_size=4, padding=1, stride=1)\n",
        "        self.pool1 = nn.MaxPool2d(kernel_size=2, stride=1)\n",
        "\n",
        "        # Filter Layer 2\n",
        "        self.conv21 = nn.Conv2d(in_channels=72, out_channels=120, kernel_size=3, padding=1, stride=1)\n",
        "        self.conv22 = nn.Conv2d(in_channels=120, out_channels=64, kernel_size=3, padding=1, stride=1)\n",
        "        self.pool2 = nn.MaxPool2d(kernel_size=2, stride=2)\n",
        "\n",
        "        # Filter Layer 3\n",
        "        self.conv31 = nn.Conv2d(in_channels=64, out_channels=45, kernel_size=2, padding=1, stride=1)\n",
        "        self.conv32 = nn.Conv2d(in_channels=45, out_channels=16, kernel_size=3, padding=1, stride=1)\n",
        "        self.pool3 = nn.MaxPool2d(kernel_size=2, stride=2)\n",
        "        \n",
        "        # Fully connected layers\n",
        "        self.fc1 = nn.Linear(16 * 8 * 8, 256)\n",
        "        self.fc2 = nn.Linear(256, 64)\n",
        "        self.fc3 = nn.Linear(64, 10)\n",
        "\n",
        "        self.ReLU = nn.ReLU()\n",
        "        self.dropout = nn.Dropout(p=0.1)\n",
        "\n",
        "    def forward(self, input):\n",
        "        # Filter Layer 1\n",
        "        input = self.conv11(input)\n",
        "        input = self.ReLU(input)\n",
        "        input = self.dropout(input)\n",
        "        input = self.conv12(input)\n",
        "        input = self.ReLU(input)\n",
        "        input = self.dropout(input)\n",
        "        input = self.pool1(input)\n",
        "\n",
        "        # Filter Layer 2\n",
        "        input = self.conv21(input)\n",
        "        input = self.ReLU(input)\n",
        "        input = self.dropout(input)\n",
        "        input = self.conv22(input)\n",
        "        input = self.ReLU(input)\n",
        "        input = self.dropout(input)\n",
        "        input = self.pool2(input)\n",
        "\n",
        "        # Filter Layer 3\n",
        "        input = self.conv31(input)\n",
        "        input = self.ReLU(input)\n",
        "        input = self.dropout(input)\n",
        "        input = self.conv32(input)\n",
        "        input = self.ReLU(input)\n",
        "        input = self.dropout(input)\n",
        "        input = self.pool3(input)\n",
        "\n",
        "        input = torch.flatten(input, 1)\n",
        "        # Fully connected layers\n",
        "        input = self.fc1(input)\n",
        "        input = self.ReLU(input)\n",
        "        input = self.dropout(input)\n",
        "        input = self.fc2(input)\n",
        "        input = self.ReLU(input)\n",
        "        input = self.dropout(input)\n",
        "        input = self.fc3(input)\n",
        "\n",
        "        return input"
      ],
      "execution_count": null,
      "outputs": []
    },
    {
      "cell_type": "code",
      "metadata": {
        "id": "sIZdtSjnj163",
        "colab": {
          "base_uri": "https://localhost:8080/",
          "height": 1000
        },
        "outputId": "14544dd9-6083-4b9d-e488-cb1a41ba0fd0"
      },
      "source": [
        "ten_dropout_net = DropoutTenCNN()\n",
        "ten_dropout_net.cuda()\n",
        "criterion = nn.CrossEntropyLoss()\n",
        "ten_drop_optimizer = optim.SGD(ten_dropout_net.parameters(), lr=0.001, momentum=0.9)\n",
        "epochs_train_loss, epochs_test_loss, epochs_train_acc, epochs_test_acc = train(ten_dropout_net, train_loader, test_loader, 20, ten_drop_optimizer, criterion, len(train_data), len(test_data))\n",
        "plot_result(epochs_train_loss, epochs_test_loss, 20, \"Cross Entropy\")\n",
        "plot_result(epochs_train_acc, epochs_test_acc, 20, \"Accuracy\")"
      ],
      "execution_count": null,
      "outputs": [
        {
          "output_type": "stream",
          "text": [
            "Batch number 2000 is finished!\n",
            "Batch number 4000 is finished!\n",
            "Batch number 6000 is finished!\n",
            "Batch number 8000 is finished!\n",
            "Batch number 10000 is finished!\n",
            "Batch number 12000 is finished!\n",
            "Epoch 1 is finished!\n",
            "Batch number 2000 is finished!\n",
            "Batch number 4000 is finished!\n",
            "Batch number 6000 is finished!\n",
            "Batch number 8000 is finished!\n",
            "Batch number 10000 is finished!\n",
            "Batch number 12000 is finished!\n",
            "Epoch 2 is finished!\n",
            "Batch number 2000 is finished!\n",
            "Batch number 4000 is finished!\n",
            "Batch number 6000 is finished!\n",
            "Batch number 8000 is finished!\n",
            "Batch number 10000 is finished!\n",
            "Batch number 12000 is finished!\n",
            "Epoch 3 is finished!\n",
            "Batch number 2000 is finished!\n",
            "Batch number 4000 is finished!\n",
            "Batch number 6000 is finished!\n",
            "Batch number 8000 is finished!\n",
            "Batch number 10000 is finished!\n",
            "Batch number 12000 is finished!\n",
            "Epoch 4 is finished!\n",
            "Batch number 2000 is finished!\n",
            "Batch number 4000 is finished!\n",
            "Batch number 6000 is finished!\n",
            "Batch number 8000 is finished!\n",
            "Batch number 10000 is finished!\n",
            "Batch number 12000 is finished!\n",
            "Epoch 5 is finished!\n",
            "Batch number 2000 is finished!\n",
            "Batch number 4000 is finished!\n",
            "Batch number 6000 is finished!\n",
            "Batch number 8000 is finished!\n",
            "Batch number 10000 is finished!\n",
            "Batch number 12000 is finished!\n",
            "Epoch 6 is finished!\n",
            "Batch number 2000 is finished!\n",
            "Batch number 4000 is finished!\n",
            "Batch number 6000 is finished!\n",
            "Batch number 8000 is finished!\n",
            "Batch number 10000 is finished!\n",
            "Batch number 12000 is finished!\n",
            "Epoch 7 is finished!\n",
            "Batch number 2000 is finished!\n",
            "Batch number 4000 is finished!\n",
            "Batch number 6000 is finished!\n",
            "Batch number 8000 is finished!\n",
            "Batch number 10000 is finished!\n",
            "Batch number 12000 is finished!\n",
            "Epoch 8 is finished!\n",
            "Batch number 2000 is finished!\n",
            "Batch number 4000 is finished!\n",
            "Batch number 6000 is finished!\n",
            "Batch number 8000 is finished!\n",
            "Batch number 10000 is finished!\n",
            "Batch number 12000 is finished!\n",
            "Epoch 9 is finished!\n",
            "Batch number 2000 is finished!\n",
            "Batch number 4000 is finished!\n",
            "Batch number 6000 is finished!\n",
            "Batch number 8000 is finished!\n",
            "Batch number 10000 is finished!\n",
            "Batch number 12000 is finished!\n",
            "Epoch 10 is finished!\n",
            "Batch number 2000 is finished!\n",
            "Batch number 4000 is finished!\n",
            "Batch number 6000 is finished!\n",
            "Batch number 8000 is finished!\n",
            "Batch number 10000 is finished!\n",
            "Batch number 12000 is finished!\n",
            "Epoch 11 is finished!\n",
            "Batch number 2000 is finished!\n",
            "Batch number 4000 is finished!\n",
            "Batch number 6000 is finished!\n",
            "Batch number 8000 is finished!\n",
            "Batch number 10000 is finished!\n",
            "Batch number 12000 is finished!\n",
            "Epoch 12 is finished!\n",
            "Batch number 2000 is finished!\n",
            "Batch number 4000 is finished!\n",
            "Batch number 6000 is finished!\n",
            "Batch number 8000 is finished!\n",
            "Batch number 10000 is finished!\n",
            "Batch number 12000 is finished!\n",
            "Epoch 13 is finished!\n",
            "Batch number 2000 is finished!\n",
            "Batch number 4000 is finished!\n",
            "Batch number 6000 is finished!\n",
            "Batch number 8000 is finished!\n",
            "Batch number 10000 is finished!\n",
            "Batch number 12000 is finished!\n",
            "Epoch 14 is finished!\n",
            "Batch number 2000 is finished!\n",
            "Batch number 4000 is finished!\n",
            "Batch number 6000 is finished!\n",
            "Batch number 8000 is finished!\n",
            "Batch number 10000 is finished!\n",
            "Batch number 12000 is finished!\n",
            "Epoch 15 is finished!\n",
            "Batch number 2000 is finished!\n",
            "Batch number 4000 is finished!\n",
            "Batch number 6000 is finished!\n",
            "Batch number 8000 is finished!\n",
            "Batch number 10000 is finished!\n",
            "Batch number 12000 is finished!\n",
            "Epoch 16 is finished!\n",
            "Batch number 2000 is finished!\n",
            "Batch number 4000 is finished!\n",
            "Batch number 6000 is finished!\n",
            "Batch number 8000 is finished!\n",
            "Batch number 10000 is finished!\n",
            "Batch number 12000 is finished!\n",
            "Epoch 17 is finished!\n",
            "Batch number 2000 is finished!\n",
            "Batch number 4000 is finished!\n",
            "Batch number 6000 is finished!\n",
            "Batch number 8000 is finished!\n",
            "Batch number 10000 is finished!\n",
            "Batch number 12000 is finished!\n",
            "Epoch 18 is finished!\n",
            "Batch number 2000 is finished!\n",
            "Batch number 4000 is finished!\n",
            "Batch number 6000 is finished!\n",
            "Batch number 8000 is finished!\n",
            "Batch number 10000 is finished!\n",
            "Batch number 12000 is finished!\n",
            "Epoch 19 is finished!\n",
            "Batch number 2000 is finished!\n",
            "Batch number 4000 is finished!\n",
            "Batch number 6000 is finished!\n",
            "Batch number 8000 is finished!\n",
            "Batch number 10000 is finished!\n",
            "Batch number 12000 is finished!\n",
            "Epoch 20 is finished!\n"
          ],
          "name": "stdout"
        },
        {
          "output_type": "display_data",
          "data": {
            "image/png": "[encoded data removed]",
            "text/plain": [
              "<Figure size 432x288 with 1 Axes>"
            ]
          },
          "metadata": {
            "tags": [],
            "needs_background": "light"
          }
        },
        {
          "output_type": "display_data",
          "data": {
            "image/png": "[encoded data removed]",
            "text/plain": [
              "<Figure size 432x288 with 1 Axes>"
            ]
          },
          "metadata": {
            "tags": [],
            "needs_background": "light"
          }
        }
      ]
    },
    {
      "cell_type": "markdown",
      "metadata": {
        "id": "i2XHR_SQkD_z"
      },
      "source": [
        "### 20 Percent dropout"
      ]
    },
    {
      "cell_type": "code",
      "metadata": {
        "id": "m_gDUDMWkJf6"
      },
      "source": [
        "class DropoutTwentyCNN(nn.Module):\n",
        "    def __init__(self):\n",
        "        super().__init__()\n",
        "        # Filter Layer 1\n",
        "        self.conv11 = nn.Conv2d(in_channels=3, out_channels=32, kernel_size=3, padding=1, stride=1)\n",
        "        self.conv12 = nn.Conv2d(in_channels=32, out_channels=72, kernel_size=4, padding=1, stride=1)\n",
        "        self.pool1 = nn.MaxPool2d(kernel_size=2, stride=1)\n",
        "\n",
        "        # Filter Layer 2\n",
        "        self.conv21 = nn.Conv2d(in_channels=72, out_channels=120, kernel_size=3, padding=1, stride=1)\n",
        "        self.conv22 = nn.Conv2d(in_channels=120, out_channels=64, kernel_size=3, padding=1, stride=1)\n",
        "        self.pool2 = nn.MaxPool2d(kernel_size=2, stride=2)\n",
        "\n",
        "        # Filter Layer 3\n",
        "        self.conv31 = nn.Conv2d(in_channels=64, out_channels=45, kernel_size=2, padding=1, stride=1)\n",
        "        self.conv32 = nn.Conv2d(in_channels=45, out_channels=16, kernel_size=3, padding=1, stride=1)\n",
        "        self.pool3 = nn.MaxPool2d(kernel_size=2, stride=2)\n",
        "        \n",
        "        # Fully connected layers\n",
        "        self.fc1 = nn.Linear(16 * 8 * 8, 256)\n",
        "        self.fc2 = nn.Linear(256, 64)\n",
        "        self.fc3 = nn.Linear(64, 10)\n",
        "\n",
        "        self.ReLU = nn.ReLU()\n",
        "        self.dropout = nn.Dropout(p=0.2)\n",
        "\n",
        "    def forward(self, input):\n",
        "        # Filter Layer 1\n",
        "        input = self.conv11(input)\n",
        "        input = self.ReLU(input)\n",
        "        input = self.dropout(input)\n",
        "        input = self.conv12(input)\n",
        "        input = self.ReLU(input)\n",
        "        input = self.dropout(input)\n",
        "        input = self.pool1(input)\n",
        "\n",
        "        # Filter Layer 2\n",
        "        input = self.conv21(input)\n",
        "        input = self.ReLU(input)\n",
        "        input = self.dropout(input)\n",
        "        input = self.conv22(input)\n",
        "        input = self.ReLU(input)\n",
        "        input = self.dropout(input)\n",
        "        input = self.pool2(input)\n",
        "\n",
        "        # Filter Layer 3\n",
        "        input = self.conv31(input)\n",
        "        input = self.ReLU(input)\n",
        "        input = self.dropout(input)\n",
        "        input = self.conv32(input)\n",
        "        input = self.ReLU(input)\n",
        "        input = self.dropout(input)\n",
        "        input = self.pool3(input)\n",
        "\n",
        "        input = torch.flatten(input, 1)\n",
        "        # Fully connected layers\n",
        "        input = self.fc1(input)\n",
        "        input = self.ReLU(input)\n",
        "        input = self.dropout(input)\n",
        "        input = self.fc2(input)\n",
        "        input = self.ReLU(input)\n",
        "        input = self.dropout(input)\n",
        "        input = self.fc3(input)\n",
        "\n",
        "        return input"
      ],
      "execution_count": null,
      "outputs": []
    },
    {
      "cell_type": "code",
      "metadata": {
        "id": "o4hKCmyikQaQ",
        "colab": {
          "base_uri": "https://localhost:8080/",
          "height": 1000
        },
        "outputId": "7ed33da7-5be1-4858-b2d0-939c36ef383f"
      },
      "source": [
        "twenty_dropout_net = DropoutTwentyCNN()\n",
        "twenty_dropout_net.cuda()\n",
        "criterion = nn.CrossEntropyLoss()\n",
        "twenty_drop_optimizer = optim.SGD(twenty_dropout_net.parameters(), lr=0.001, momentum=0.9)\n",
        "epochs_train_loss, epochs_test_loss, epochs_train_acc, epochs_test_acc = train(twenty_dropout_net, train_loader, test_loader, 20, twenty_drop_optimizer, criterion, len(train_data), len(test_data))\n",
        "plot_result(epochs_train_loss, epochs_test_loss, 20, \"Cross Entropy\")\n",
        "plot_result(epochs_train_acc, epochs_test_acc, 20, \"Accuracy\")"
      ],
      "execution_count": null,
      "outputs": [
        {
          "output_type": "stream",
          "text": [
            "Batch number 2000 is finished!\n",
            "Batch number 4000 is finished!\n",
            "Batch number 6000 is finished!\n",
            "Batch number 8000 is finished!\n",
            "Batch number 10000 is finished!\n",
            "Batch number 12000 is finished!\n",
            "Epoch 1 is finished!\n",
            "Batch number 2000 is finished!\n",
            "Batch number 4000 is finished!\n",
            "Batch number 6000 is finished!\n",
            "Batch number 8000 is finished!\n",
            "Batch number 10000 is finished!\n",
            "Batch number 12000 is finished!\n",
            "Epoch 2 is finished!\n",
            "Batch number 2000 is finished!\n",
            "Batch number 4000 is finished!\n",
            "Batch number 6000 is finished!\n",
            "Batch number 8000 is finished!\n",
            "Batch number 10000 is finished!\n",
            "Batch number 12000 is finished!\n",
            "Epoch 3 is finished!\n",
            "Batch number 2000 is finished!\n",
            "Batch number 4000 is finished!\n",
            "Batch number 6000 is finished!\n",
            "Batch number 8000 is finished!\n",
            "Batch number 10000 is finished!\n",
            "Batch number 12000 is finished!\n",
            "Epoch 4 is finished!\n",
            "Batch number 2000 is finished!\n",
            "Batch number 4000 is finished!\n",
            "Batch number 6000 is finished!\n",
            "Batch number 8000 is finished!\n",
            "Batch number 10000 is finished!\n",
            "Batch number 12000 is finished!\n",
            "Epoch 5 is finished!\n",
            "Batch number 2000 is finished!\n",
            "Batch number 4000 is finished!\n",
            "Batch number 6000 is finished!\n",
            "Batch number 8000 is finished!\n",
            "Batch number 10000 is finished!\n",
            "Batch number 12000 is finished!\n",
            "Epoch 6 is finished!\n",
            "Batch number 2000 is finished!\n",
            "Batch number 4000 is finished!\n",
            "Batch number 6000 is finished!\n",
            "Batch number 8000 is finished!\n",
            "Batch number 10000 is finished!\n",
            "Batch number 12000 is finished!\n",
            "Epoch 7 is finished!\n",
            "Batch number 2000 is finished!\n",
            "Batch number 4000 is finished!\n",
            "Batch number 6000 is finished!\n",
            "Batch number 8000 is finished!\n",
            "Batch number 10000 is finished!\n",
            "Batch number 12000 is finished!\n",
            "Epoch 8 is finished!\n",
            "Batch number 2000 is finished!\n",
            "Batch number 4000 is finished!\n",
            "Batch number 6000 is finished!\n",
            "Batch number 8000 is finished!\n",
            "Batch number 10000 is finished!\n",
            "Batch number 12000 is finished!\n",
            "Epoch 9 is finished!\n",
            "Batch number 2000 is finished!\n",
            "Batch number 4000 is finished!\n",
            "Batch number 6000 is finished!\n",
            "Batch number 8000 is finished!\n",
            "Batch number 10000 is finished!\n",
            "Batch number 12000 is finished!\n",
            "Epoch 10 is finished!\n",
            "Batch number 2000 is finished!\n",
            "Batch number 4000 is finished!\n",
            "Batch number 6000 is finished!\n",
            "Batch number 8000 is finished!\n",
            "Batch number 10000 is finished!\n",
            "Batch number 12000 is finished!\n",
            "Epoch 11 is finished!\n",
            "Batch number 2000 is finished!\n",
            "Batch number 4000 is finished!\n",
            "Batch number 6000 is finished!\n",
            "Batch number 8000 is finished!\n",
            "Batch number 10000 is finished!\n",
            "Batch number 12000 is finished!\n",
            "Epoch 12 is finished!\n",
            "Batch number 2000 is finished!\n",
            "Batch number 4000 is finished!\n",
            "Batch number 6000 is finished!\n",
            "Batch number 8000 is finished!\n",
            "Batch number 10000 is finished!\n",
            "Batch number 12000 is finished!\n",
            "Epoch 13 is finished!\n",
            "Batch number 2000 is finished!\n",
            "Batch number 4000 is finished!\n",
            "Batch number 6000 is finished!\n",
            "Batch number 8000 is finished!\n",
            "Batch number 10000 is finished!\n",
            "Batch number 12000 is finished!\n",
            "Epoch 14 is finished!\n",
            "Batch number 2000 is finished!\n",
            "Batch number 4000 is finished!\n",
            "Batch number 6000 is finished!\n",
            "Batch number 8000 is finished!\n",
            "Batch number 10000 is finished!\n",
            "Batch number 12000 is finished!\n",
            "Epoch 15 is finished!\n",
            "Batch number 2000 is finished!\n",
            "Batch number 4000 is finished!\n",
            "Batch number 6000 is finished!\n",
            "Batch number 8000 is finished!\n",
            "Batch number 10000 is finished!\n",
            "Batch number 12000 is finished!\n",
            "Epoch 16 is finished!\n",
            "Batch number 2000 is finished!\n",
            "Batch number 4000 is finished!\n",
            "Batch number 6000 is finished!\n",
            "Batch number 8000 is finished!\n",
            "Batch number 10000 is finished!\n",
            "Batch number 12000 is finished!\n",
            "Epoch 17 is finished!\n",
            "Batch number 2000 is finished!\n",
            "Batch number 4000 is finished!\n",
            "Batch number 6000 is finished!\n",
            "Batch number 8000 is finished!\n",
            "Batch number 10000 is finished!\n",
            "Batch number 12000 is finished!\n",
            "Epoch 18 is finished!\n",
            "Batch number 2000 is finished!\n",
            "Batch number 4000 is finished!\n",
            "Batch number 6000 is finished!\n",
            "Batch number 8000 is finished!\n",
            "Batch number 10000 is finished!\n",
            "Batch number 12000 is finished!\n",
            "Epoch 19 is finished!\n",
            "Batch number 2000 is finished!\n",
            "Batch number 4000 is finished!\n",
            "Batch number 6000 is finished!\n",
            "Batch number 8000 is finished!\n",
            "Batch number 10000 is finished!\n",
            "Batch number 12000 is finished!\n",
            "Epoch 20 is finished!\n"
          ],
          "name": "stdout"
        },
        {
          "output_type": "display_data",
          "data": {
            "image/png": "[encoded data removed]",
            "text/plain": [
              "<Figure size 432x288 with 1 Axes>"
            ]
          },
          "metadata": {
            "tags": [],
            "needs_background": "light"
          }
        },
        {
          "output_type": "display_data",
          "data": {
            "image/png": "[encoded data removed]",
            "text/plain": [
              "<Figure size 432x288 with 1 Axes>"
            ]
          },
          "metadata": {
            "tags": [],
            "needs_background": "light"
          }
        }
      ]
    }
  ]
}